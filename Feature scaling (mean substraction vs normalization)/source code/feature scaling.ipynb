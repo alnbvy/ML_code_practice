{
 "cells": [
  {
   "cell_type": "markdown",
   "metadata": {},
   "source": [
    "## Feature scaling\n",
    "- Reference: http://cs231n.github.io/neural-networks-2/\n",
    "- Three common forms\n",
    "    - **Mean substraction:** \"substracting the mean across every individual feature in the data\"\n",
    "    - **Normalization** <br>\n",
    "        1) \"divide each dimension by its standard deviation, onece it has been zero-centered\" <br>\n",
    "        2) \"normalizes each dimension so that the min and max along the dimension is -1 and 1 respectively\""
   ]
  },
  {
   "cell_type": "markdown",
   "metadata": {},
   "source": [
    "### Load dataset"
   ]
  },
  {
   "cell_type": "code",
   "execution_count": 1,
   "metadata": {},
   "outputs": [],
   "source": [
    "import numpy as np\n",
    "\n",
    "from sklearn import datasets\n",
    "from sklearn.model_selection  import train_test_split, GridSearchCV\n",
    "from sklearn.neural_network import MLPClassifier\n",
    "from sklearn.metrics import accuracy_score"
   ]
  },
  {
   "cell_type": "code",
   "execution_count": 2,
   "metadata": {},
   "outputs": [],
   "source": [
    "data = datasets.load_digits()"
   ]
  },
  {
   "cell_type": "code",
   "execution_count": 3,
   "metadata": {},
   "outputs": [],
   "source": [
    "X_data = data.images   # load X_data\n",
    "y_data = data.target   # load y_data"
   ]
  },
  {
   "cell_type": "code",
   "execution_count": 4,
   "metadata": {},
   "outputs": [],
   "source": [
    "X_data = X_data.reshape(X_data.shape[0], X_data.shape[1] * X_data.shape[2])    # flatten X_data"
   ]
  },
  {
   "cell_type": "code",
   "execution_count": 5,
   "metadata": {},
   "outputs": [
    {
     "name": "stdout",
     "output_type": "stream",
     "text": [
      "[[ 0.  0.  5. ...  0.  0.  0.]\n",
      " [ 0.  0.  0. ... 10.  0.  0.]\n",
      " [ 0.  0.  0. ... 16.  9.  0.]\n",
      " ...\n",
      " [ 0.  0.  1. ...  6.  0.  0.]\n",
      " [ 0.  0.  2. ... 12.  0.  0.]\n",
      " [ 0.  0. 10. ... 12.  1.  0.]]\n"
     ]
    }
   ],
   "source": [
    "print(X_data)"
   ]
  },
  {
   "cell_type": "code",
   "execution_count": 20,
   "metadata": {},
   "outputs": [
    {
     "data": {
      "image/png": "[encoded data removed]",
      "text/plain": [
       "<Figure size 216x216 with 1 Axes>"
      ]
     },
     "metadata": {
      "needs_background": "light"
     },
     "output_type": "display_data"
    }
   ],
   "source": [
    "import matplotlib.pyplot as plt\n",
    "fig = plt.figure(figsize = (3,3))\n",
    "plt.imshow(X_data[0].reshape((8,8)))\n",
    "plt.show()"
   ]
  },
  {
   "cell_type": "markdown",
   "metadata": {},
   "source": [
    "### 0. Without feature scaling"
   ]
  },
  {
   "cell_type": "code",
   "execution_count": 29,
   "metadata": {
    "collapsed": true
   },
   "outputs": [],
   "source": [
    "X_train, X_test, y_train, y_test = train_test_split(X_data, y_data, test_size = 0.3, random_state = 7)    # split data into train & test set"
   ]
  },
  {
   "cell_type": "code",
   "execution_count": 30,
   "metadata": {
    "collapsed": true
   },
   "outputs": [],
   "source": [
    "clf = MLPClassifier(hidden_layer_sizes = (20, 20))   # create a MLP with twenty hidden layers with five neurons"
   ]
  },
  {
   "cell_type": "code",
   "execution_count": 31,
   "metadata": {},
   "outputs": [
    {
     "name": "stderr",
     "output_type": "stream",
     "text": [
      "C:\\Users\\Buomsoo\\Anaconda3\\lib\\site-packages\\sklearn\\neural_network\\multilayer_perceptron.py:563: ConvergenceWarning: Stochastic Optimizer: Maximum iterations reached and the optimization hasn't converged yet.\n",
      "  % (), ConvergenceWarning)\n"
     ]
    },
    {
     "data": {
      "text/plain": [
       "MLPClassifier(activation='relu', alpha=0.0001, batch_size='auto', beta_1=0.9,\n",
       "       beta_2=0.999, early_stopping=False, epsilon=1e-08,\n",
       "       hidden_layer_sizes=(20, 20), learning_rate='constant',\n",
       "       learning_rate_init=0.001, max_iter=200, momentum=0.9,\n",
       "       nesterovs_momentum=True, power_t=0.5, random_state=None,\n",
       "       shuffle=True, solver='adam', tol=0.0001, validation_fraction=0.1,\n",
       "       verbose=False, warm_start=False)"
      ]
     },
     "execution_count": 31,
     "metadata": {},
     "output_type": "execute_result"
    }
   ],
   "source": [
    "clf.fit(X_train, y_train)"
   ]
  },
  {
   "cell_type": "code",
   "execution_count": 32,
   "metadata": {
    "collapsed": true
   },
   "outputs": [],
   "source": [
    "y_pred = clf.predict(X_test)"
   ]
  },
  {
   "cell_type": "code",
   "execution_count": 33,
   "metadata": {},
   "outputs": [
    {
     "name": "stdout",
     "output_type": "stream",
     "text": [
      "0.948148148148\n"
     ]
    }
   ],
   "source": [
    "print(accuracy_score(y_pred, y_test))"
   ]
  },
  {
   "cell_type": "markdown",
   "metadata": {},
   "source": [
    "### 1. Mean substraction"
   ]
  },
  {
   "cell_type": "code",
   "execution_count": 22,
   "metadata": {},
   "outputs": [
    {
     "data": {
      "text/plain": [
       "64"
      ]
     },
     "execution_count": 22,
     "metadata": {},
     "output_type": "execute_result"
    }
   ],
   "source": [
    "len(np.mean(X_data, axis = 0))"
   ]
  },
  {
   "cell_type": "code",
   "execution_count": 15,
   "metadata": {
    "collapsed": true
   },
   "outputs": [],
   "source": [
    "X_scaled = X_data - np.mean(X_data, axis = 0) # axis = 0 means on each column"
   ]
  },
  {
   "cell_type": "code",
   "execution_count": 20,
   "metadata": {},
   "outputs": [
    {
     "name": "stdout",
     "output_type": "stream",
     "text": [
      "[  0.00000000e+00  -1.23910033e-15   4.92378042e-15   3.92044030e-15\n",
      "   1.36118162e-15  -1.73286229e-15  -1.47214214e-15  -4.54993738e-16\n",
      "  -5.88087669e-18   5.09442238e-15   1.78920750e-15  -1.86828850e-15\n",
      "   5.33005903e-15  -7.62835043e-15   2.86989872e-15   5.59220017e-16\n",
      "   3.26460092e-17   3.32535582e-15   1.96615123e-15  -3.14050399e-15\n",
      "   5.26580572e-15   2.44508550e-15  -2.36130907e-16  -4.61071545e-16\n",
      "  -1.87662907e-18  -1.02063909e-15  -2.78365101e-15  -3.34908012e-15\n",
      "  -3.08514730e-15  -4.52738694e-15  -4.62722669e-15  -1.04257171e-17\n",
      "   0.00000000e+00   1.74126465e-15  -4.07316547e-15  -2.69863894e-16\n",
      "  -2.91018060e-15  -4.08255634e-16  -5.83790729e-15   0.00000000e+00\n",
      "  -1.76542142e-17   1.04411626e-15   5.59893441e-15  -5.58509524e-16\n",
      "   6.54592932e-15  -2.27357859e-15   1.97331794e-15   1.56482290e-16\n",
      "   6.86340399e-17  -5.92118946e-16   8.58028791e-16  -5.83420037e-15\n",
      "   3.58138054e-15   3.90462410e-16   5.69877417e-15  -6.90228805e-16\n",
      "   6.56820174e-18  -5.14644285e-16  -9.78627307e-16   4.37713305e-15\n",
      "  -1.28506616e-16  -3.21859648e-15  -5.63130819e-15  -9.39395720e-16]\n"
     ]
    }
   ],
   "source": [
    "print(np.mean(X_scaled, axis = 0))"
   ]
  },
  {
   "cell_type": "code",
   "execution_count": 21,
   "metadata": {
    "collapsed": true
   },
   "outputs": [],
   "source": [
    "X_train, X_test, y_train, y_test = train_test_split(X_scaled, y_data, test_size = 0.3, random_state = 7)    # split data into train & test set"
   ]
  },
  {
   "cell_type": "code",
   "execution_count": 23,
   "metadata": {
    "collapsed": true
   },
   "outputs": [],
   "source": [
    "clf = MLPClassifier(hidden_layer_sizes = (20, 20))   # create a MLP with twenty hidden layers with five neurons"
   ]
  },
  {
   "cell_type": "code",
   "execution_count": 26,
   "metadata": {},
   "outputs": [
    {
     "data": {
      "text/plain": [
       "MLPClassifier(activation='relu', alpha=0.0001, batch_size='auto', beta_1=0.9,\n",
       "       beta_2=0.999, early_stopping=False, epsilon=1e-08,\n",
       "       hidden_layer_sizes=(20, 20), learning_rate='constant',\n",
       "       learning_rate_init=0.001, max_iter=200, momentum=0.9,\n",
       "       nesterovs_momentum=True, power_t=0.5, random_state=None,\n",
       "       shuffle=True, solver='adam', tol=0.0001, validation_fraction=0.1,\n",
       "       verbose=False, warm_start=False)"
      ]
     },
     "execution_count": 26,
     "metadata": {},
     "output_type": "execute_result"
    }
   ],
   "source": [
    "clf.fit(X_train, y_train)"
   ]
  },
  {
   "cell_type": "code",
   "execution_count": 27,
   "metadata": {},
   "outputs": [],
   "source": [
    "y_pred = clf.predict(X_test)"
   ]
  },
  {
   "cell_type": "code",
   "execution_count": 28,
   "metadata": {},
   "outputs": [
    {
     "name": "stdout",
     "output_type": "stream",
     "text": [
      "0.957407407407\n"
     ]
    }
   ],
   "source": [
    "print(accuracy_score(y_pred, y_test))"
   ]
  },
  {
   "cell_type": "markdown",
   "metadata": {},
   "source": [
    "### 2. Normalization - 1"
   ]
  },
  {
   "cell_type": "code",
   "execution_count": 38,
   "metadata": {
    "collapsed": true
   },
   "outputs": [],
   "source": [
    "X_scaled = X_data - np.mean(X_data, axis = 0)"
   ]
  },
  {
   "cell_type": "code",
   "execution_count": 39,
   "metadata": {},
   "outputs": [
    {
     "data": {
      "text/plain": [
       "array([[ 0.        , -0.30383973, -0.20478575, ..., -6.7640512 ,\n",
       "        -2.06789093, -0.36449638],\n",
       "       [ 0.        , -0.30383973, -5.20478575, ...,  3.2359488 ,\n",
       "        -2.06789093, -0.36449638],\n",
       "       [ 0.        , -0.30383973, -5.20478575, ...,  9.2359488 ,\n",
       "         6.93210907, -0.36449638],\n",
       "       ..., \n",
       "       [ 0.        , -0.30383973, -4.20478575, ..., -0.7640512 ,\n",
       "        -2.06789093, -0.36449638],\n",
       "       [ 0.        , -0.30383973, -3.20478575, ...,  5.2359488 ,\n",
       "        -2.06789093, -0.36449638],\n",
       "       [ 0.        , -0.30383973,  4.79521425, ...,  5.2359488 ,\n",
       "        -1.06789093, -0.36449638]])"
      ]
     },
     "execution_count": 39,
     "metadata": {},
     "output_type": "execute_result"
    }
   ],
   "source": [
    "X_scaled"
   ]
  },
  {
   "cell_type": "code",
   "execution_count": 35,
   "metadata": {},
   "outputs": [
    {
     "name": "stdout",
     "output_type": "stream",
     "text": [
      "[  0.00000000e+00  -1.23910033e-15   4.92378042e-15   3.92044030e-15\n",
      "   1.36118162e-15  -1.73286229e-15  -1.47214214e-15  -4.54993738e-16\n",
      "  -5.88087669e-18   5.09442238e-15   1.78920750e-15  -1.86828850e-15\n",
      "   5.33005903e-15  -7.62835043e-15   2.86989872e-15   5.59220017e-16\n",
      "   3.26460092e-17   3.32535582e-15   1.96615123e-15  -3.14050399e-15\n",
      "   5.26580572e-15   2.44508550e-15  -2.36130907e-16  -4.61071545e-16\n",
      "  -1.87662907e-18  -1.02063909e-15  -2.78365101e-15  -3.34908012e-15\n",
      "  -3.08514730e-15  -4.52738694e-15  -4.62722669e-15  -1.04257171e-17\n",
      "   0.00000000e+00   1.74126465e-15  -4.07316547e-15  -2.69863894e-16\n",
      "  -2.91018060e-15  -4.08255634e-16  -5.83790729e-15   0.00000000e+00\n",
      "  -1.76542142e-17   1.04411626e-15   5.59893441e-15  -5.58509524e-16\n",
      "   6.54592932e-15  -2.27357859e-15   1.97331794e-15   1.56482290e-16\n",
      "   6.86340399e-17  -5.92118946e-16   8.58028791e-16  -5.83420037e-15\n",
      "   3.58138054e-15   3.90462410e-16   5.69877417e-15  -6.90228805e-16\n",
      "   6.56820174e-18  -5.14644285e-16  -9.78627307e-16   4.37713305e-15\n",
      "  -1.28506616e-16  -3.21859648e-15  -5.63130819e-15  -9.39395720e-16]\n"
     ]
    }
   ],
   "source": [
    "print(np.mean(X_scaled, axis = 0))"
   ]
  },
  {
   "cell_type": "code",
   "execution_count": 40,
   "metadata": {},
   "outputs": [
    {
     "name": "stdout",
     "output_type": "stream",
     "text": [
      "[ 0.          0.90693964  4.75350317  4.24765948  4.28619491  5.66484088\n",
      "  3.32484969  1.03709417  0.09419533  3.19527098  5.41994694  3.97643575\n",
      "  4.78134964  6.05127561  3.58532293  0.82768465  0.06235094  3.57530605\n",
      "  5.68918332  5.80104695  6.17400993  6.19559718  3.25896254  0.43847543\n",
      "  0.03334258  3.14565685  6.19031469  5.88129939  6.15038083  5.87092136\n",
      "  3.68543009  0.04712725  0.          3.4794038   6.32292731  6.26664682\n",
      "  5.93183902  5.86901393  3.53629836  0.          0.14514503  2.98098645\n",
      "  6.53613529  6.43958504  6.25776954  5.69394162  4.32974601  0.30727036\n",
      "  0.20416633  1.74566694  5.64292531  5.22549314  5.30057302  6.02947606\n",
      "  4.91803706  0.98412698  0.02358333  0.9340418   5.1015993   4.37347662\n",
      "  4.93257433  5.89898069  4.08940957  1.85960409]\n"
     ]
    }
   ],
   "source": [
    "print(np.std(X_scaled, axis = 0))    # there exist features with 0 std"
   ]
  },
  {
   "cell_type": "code",
   "execution_count": 41,
   "metadata": {
    "collapsed": true
   },
   "outputs": [],
   "source": [
    "std = np.std(X_scaled, axis = 0) + 0.00001    # add a minute number to prevent divide by zero"
   ]
  },
  {
   "cell_type": "code",
   "execution_count": 42,
   "metadata": {},
   "outputs": [],
   "source": [
    "X_scaled /= std    # divde by standard deviation"
   ]
  },
  {
   "cell_type": "code",
   "execution_count": 43,
   "metadata": {},
   "outputs": [
    {
     "data": {
      "text/plain": [
       "array([ 0.        ,  0.99988975,  0.99997896,  0.99997646,  0.99997667,\n",
       "        0.99998235,  0.99996992,  0.99990359,  0.9989395 ,  0.9999687 ,\n",
       "        0.99998155,  0.99997485,  0.99997909,  0.99998347,  0.99997211,\n",
       "        0.9998792 ,  0.99839874,  0.99997203,  0.99998242,  0.99998276,\n",
       "        0.9999838 ,  0.99998386,  0.99996932,  0.99977199,  0.9970098 ,\n",
       "        0.99996821,  0.99998385,  0.999983  ,  0.99998374,  0.99998297,\n",
       "        0.99997287,  0.99788258,  0.        ,  0.99997126,  0.99998418,\n",
       "        0.99998404,  0.99998314,  0.99998296,  0.99997172,  0.        ,\n",
       "        0.99931151,  0.99996646,  0.9999847 ,  0.99998447,  0.99998402,\n",
       "        0.99998244,  0.9999769 ,  0.99967466,  0.99951044,  0.99994272,\n",
       "        0.99998228,  0.99998086,  0.99998113,  0.99998342,  0.99997967,\n",
       "        0.9998984 ,  0.99577762,  0.99989295,  0.9999804 ,  0.99997714,\n",
       "        0.99997973,  0.99998305,  0.99997555,  0.99994623])"
      ]
     },
     "execution_count": 43,
     "metadata": {},
     "output_type": "execute_result"
    }
   ],
   "source": [
    "print(np.std(X_scaled, axis = 0))"
   ]
  },
  {
   "cell_type": "code",
   "execution_count": 44,
   "metadata": {
    "collapsed": true
   },
   "outputs": [],
   "source": [
    "X_train, X_test, y_train, y_test = train_test_split(X_scaled, y_data, test_size = 0.3, random_state = 7)    # split data into train & test set"
   ]
  },
  {
   "cell_type": "code",
   "execution_count": 45,
   "metadata": {
    "collapsed": true
   },
   "outputs": [],
   "source": [
    "clf = MLPClassifier(hidden_layer_sizes = (20, 20))   # create a MLP with twenty hidden layers with five neurons"
   ]
  },
  {
   "cell_type": "code",
   "execution_count": 46,
   "metadata": {},
   "outputs": [
    {
     "data": {
      "text/plain": [
       "MLPClassifier(activation='relu', alpha=0.0001, batch_size='auto', beta_1=0.9,\n",
       "       beta_2=0.999, early_stopping=False, epsilon=1e-08,\n",
       "       hidden_layer_sizes=(20, 20), learning_rate='constant',\n",
       "       learning_rate_init=0.001, max_iter=200, momentum=0.9,\n",
       "       nesterovs_momentum=True, power_t=0.5, random_state=None,\n",
       "       shuffle=True, solver='adam', tol=0.0001, validation_fraction=0.1,\n",
       "       verbose=False, warm_start=False)"
      ]
     },
     "execution_count": 46,
     "metadata": {},
     "output_type": "execute_result"
    }
   ],
   "source": [
    "clf.fit(X_train, y_train)"
   ]
  },
  {
   "cell_type": "code",
   "execution_count": 47,
   "metadata": {
    "collapsed": true
   },
   "outputs": [],
   "source": [
    "y_pred = clf.predict(X_test)"
   ]
  },
  {
   "cell_type": "code",
   "execution_count": 48,
   "metadata": {},
   "outputs": [
    {
     "name": "stdout",
     "output_type": "stream",
     "text": [
      "0.95\n"
     ]
    }
   ],
   "source": [
    "print(accuracy_score(y_pred, y_test))"
   ]
  },
  {
   "cell_type": "markdown",
   "metadata": {},
   "source": [
    "### 3. Normalization - 2"
   ]
  },
  {
   "cell_type": "code",
   "execution_count": 59,
   "metadata": {},
   "outputs": [],
   "source": [
    "X_scaled = (X_data - np.mean(X_data, axis = 0))/(np.max(X_data, axis = 0) - np.min(X_data, axis = 0) + 0.00001)  # add a minute number to prevent divide by zero"
   ]
  },
  {
   "cell_type": "code",
   "execution_count": 65,
   "metadata": {},
   "outputs": [
    {
     "name": "stdout",
     "output_type": "stream",
     "text": [
      "[ 0.          0.96201883  0.67470047  0.26025999  0.25949483  0.63863344\n",
      "  0.91485753  0.9913553   0.9972126   0.87538203  0.35110579  0.25128671\n",
      "  0.35754012  0.48900915  0.88459878  0.9910027   0.9986038   0.83740209\n",
      "  0.38105151  0.56295179  0.55637834  0.51210319  0.88821592  0.99373832\n",
      "  0.99887705  0.83535466  0.43179578  0.44866416  0.37955597  0.5280325\n",
      "  0.84548265  0.99776409  0.          0.8328955   0.52079823  0.43301308\n",
      "  0.35614891  0.4534986   0.79219277  0.          0.99777157  0.90101502\n",
      "  0.56990782  0.54823978  0.52048521  0.48521812  0.78397975  0.99545373\n",
      "  0.99909447  0.95596768  0.53081492  0.40379774  0.41148416  0.45259432\n",
      "  0.76718093  0.98411807  0.99943352  0.96895954  0.65264984  0.24443502\n",
      "  0.26192944  0.57724644  0.87075627  0.97721837]\n"
     ]
    }
   ],
   "source": [
    "print(X_scaled.max(axis = 0))"
   ]
  },
  {
   "cell_type": "code",
   "execution_count": 66,
   "metadata": {},
   "outputs": [
    {
     "name": "stdout",
     "output_type": "stream",
     "text": [
      "[  0.00000000e+00  -3.79799191e-02  -3.25298906e-01  -7.39739382e-01\n",
      "  -7.40504546e-01  -3.61365940e-01  -8.51418500e-02  -8.64403059e-03\n",
      "  -2.78240122e-03  -1.24617340e-01  -6.48893584e-01  -7.48712665e-01\n",
      "  -6.42459253e-01  -5.10990220e-01  -1.15400596e-01  -8.99646811e-03\n",
      "  -1.39120061e-03  -1.62597283e-01  -6.18947860e-01  -4.37047584e-01\n",
      "  -4.43621036e-01  -4.87896189e-01  -1.11783458e-01  -6.26042623e-03\n",
      "  -1.11295492e-03  -1.64644669e-01  -5.68203596e-01  -5.51335215e-01\n",
      "  -6.20443407e-01  -4.71966873e-01  -1.54516684e-01  -2.22590985e-03\n",
      "   0.00000000e+00  -1.67103784e-01  -4.79201147e-01  -5.66986290e-01\n",
      "  -6.43850460e-01  -5.46500771e-01  -2.07806513e-01   0.00000000e+00\n",
      "  -2.22592654e-03  -9.89843566e-02  -4.30091551e-01  -4.51759595e-01\n",
      "  -4.79514169e-01  -5.14781259e-01  -2.16019620e-01  -4.54460382e-03\n",
      "  -9.04283789e-04  -4.40316920e-02  -4.69184459e-01  -5.96201631e-01\n",
      "  -5.88515214e-01  -5.47405056e-01  -2.32818441e-01  -1.58811573e-02\n",
      "  -5.56477462e-04  -3.10393521e-02  -3.47349532e-01  -7.55564358e-01\n",
      "  -7.38069934e-01  -4.22752936e-01  -1.29243102e-01  -2.27810097e-02]\n"
     ]
    }
   ],
   "source": [
    "print(X_scaled.min(axis = 0))"
   ]
  },
  {
   "cell_type": "code",
   "execution_count": 60,
   "metadata": {
    "collapsed": true
   },
   "outputs": [],
   "source": [
    "X_train, X_test, y_train, y_test = train_test_split(X_scaled, y_data, test_size = 0.3, random_state = 7)    # split data into train & test set"
   ]
  },
  {
   "cell_type": "code",
   "execution_count": 61,
   "metadata": {
    "collapsed": true
   },
   "outputs": [],
   "source": [
    "clf = MLPClassifier(hidden_layer_sizes = (20, 20))   # create a MLP with twenty hidden layers with five neurons"
   ]
  },
  {
   "cell_type": "code",
   "execution_count": 62,
   "metadata": {},
   "outputs": [
    {
     "name": "stderr",
     "output_type": "stream",
     "text": [
      "C:\\Users\\Buomsoo\\Anaconda3\\lib\\site-packages\\sklearn\\neural_network\\multilayer_perceptron.py:563: ConvergenceWarning: Stochastic Optimizer: Maximum iterations reached and the optimization hasn't converged yet.\n",
      "  % (), ConvergenceWarning)\n"
     ]
    },
    {
     "data": {
      "text/plain": [
       "MLPClassifier(activation='relu', alpha=0.0001, batch_size='auto', beta_1=0.9,\n",
       "       beta_2=0.999, early_stopping=False, epsilon=1e-08,\n",
       "       hidden_layer_sizes=(20, 20), learning_rate='constant',\n",
       "       learning_rate_init=0.001, max_iter=200, momentum=0.9,\n",
       "       nesterovs_momentum=True, power_t=0.5, random_state=None,\n",
       "       shuffle=True, solver='adam', tol=0.0001, validation_fraction=0.1,\n",
       "       verbose=False, warm_start=False)"
      ]
     },
     "execution_count": 62,
     "metadata": {},
     "output_type": "execute_result"
    }
   ],
   "source": [
    "clf.fit(X_train, y_train)"
   ]
  },
  {
   "cell_type": "code",
   "execution_count": 63,
   "metadata": {
    "collapsed": true
   },
   "outputs": [],
   "source": [
    "y_pred = clf.predict(X_test)"
   ]
  },
  {
   "cell_type": "code",
   "execution_count": 64,
   "metadata": {},
   "outputs": [
    {
     "name": "stdout",
     "output_type": "stream",
     "text": [
      "0.961111111111\n"
     ]
    }
   ],
   "source": [
    "print(accuracy_score(y_pred, y_test))"
   ]
  }
 ],
 "metadata": {
  "kernelspec": {
   "display_name": "Python 3 (ipykernel)",
   "language": "python",
   "name": "python3"
  },
  "language_info": {
   "codemirror_mode": {
    "name": "ipython",
    "version": 3
   },
   "file_extension": ".py",
   "mimetype": "text/x-python",
   "name": "python",
   "nbconvert_exporter": "python",
   "pygments_lexer": "ipython3",
   "version": "3.9.12"
  }
 },
 "nbformat": 4,
 "nbformat_minor": 2
}
