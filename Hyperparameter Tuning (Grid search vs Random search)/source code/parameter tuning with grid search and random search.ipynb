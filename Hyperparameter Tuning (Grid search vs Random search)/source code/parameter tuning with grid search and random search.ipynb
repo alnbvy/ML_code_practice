{
 "cells": [
  {
   "cell_type": "code",
   "execution_count": 1,
   "metadata": {},
   "outputs": [],
   "source": [
    "import numpy as np\n",
    "import scipy\n",
    "\n",
    "from scipy.stats import randint, uniform\n",
    "from sklearn import datasets\n",
    "from sklearn.model_selection  import train_test_split, GridSearchCV, RandomizedSearchCV\n",
    "from sklearn.neural_network import MLPClassifier"
   ]
  },
  {
   "cell_type": "code",
   "execution_count": 15,
   "metadata": {},
   "outputs": [],
   "source": [
    "import warnings\n",
    "warnings.filterwarnings('ignore')"
   ]
  },
  {
   "cell_type": "markdown",
   "metadata": {},
   "source": [
    "## Load Dataset\n",
    "- Load 'digits' dataset in Scikit-learn\n",
    "- http://scikit-learn.org/stable/modules/generated/sklearn.datasets.load_digits.html"
   ]
  },
  {
   "cell_type": "code",
   "execution_count": 2,
   "metadata": {},
   "outputs": [],
   "source": [
    "data = datasets.load_digits()"
   ]
  },
  {
   "cell_type": "code",
   "execution_count": 3,
   "metadata": {},
   "outputs": [],
   "source": [
    "X_data = data.images   # load X_data\n",
    "y_data = data.target   # load y_data"
   ]
  },
  {
   "cell_type": "code",
   "execution_count": 4,
   "metadata": {},
   "outputs": [],
   "source": [
    "X_data = X_data.reshape(X_data.shape[0], X_data.shape[1] * X_data.shape[2])    # flatten X_data"
   ]
  },
  {
   "cell_type": "code",
   "execution_count": 5,
   "metadata": {},
   "outputs": [
    {
     "name": "stdout",
     "output_type": "stream",
     "text": [
      "(1797, 64)\n",
      "(1797,)\n"
     ]
    }
   ],
   "source": [
    "print(X_data.shape)\n",
    "print(y_data.shape)"
   ]
  },
  {
   "cell_type": "code",
   "execution_count": 6,
   "metadata": {},
   "outputs": [],
   "source": [
    "X_train, X_test, y_train, y_test = train_test_split(X_data, y_data, test_size = 0.2, random_state = 7)    # split data into train & test set"
   ]
  },
  {
   "cell_type": "code",
   "execution_count": 7,
   "metadata": {},
   "outputs": [
    {
     "data": {
      "text/plain": [
       "MLPClassifier(hidden_layer_sizes=(5, 5))"
      ]
     },
     "execution_count": 7,
     "metadata": {},
     "output_type": "execute_result"
    }
   ],
   "source": [
    "clf = MLPClassifier(hidden_layer_sizes = (5, 5))   # create a MLP with two hidden layers with five neurons\n",
    "clf"
   ]
  },
  {
   "cell_type": "markdown",
   "metadata": {},
   "source": [
    "## Grid Search"
   ]
  },
  {
   "cell_type": "code",
   "execution_count": 8,
   "metadata": {},
   "outputs": [],
   "source": [
    "# assign parameters for grid search\n",
    "activation = ['tanh', 'relu']\n",
    "solver = ['sgd', 'adam']\n",
    "batch_size = [50, 100]\n",
    "learning_rate_init = [0.1, 0.01, 0.001]\n",
    "max_iter = [200, 300, 400, 500]"
   ]
  },
  {
   "cell_type": "code",
   "execution_count": 9,
   "metadata": {},
   "outputs": [],
   "source": [
    "# create a dictionary to carry parameter settings\n",
    "parameters = dict(activation = activation, solver = solver, batch_size = batch_size, learning_rate_init = learning_rate_init, max_iter = max_iter)"
   ]
  },
  {
   "cell_type": "code",
   "execution_count": 10,
   "metadata": {},
   "outputs": [],
   "source": [
    "searcher = GridSearchCV(estimator = clf, param_grid = parameters, cv = 5, scoring = 'accuracy')"
   ]
  },
  {
   "cell_type": "code",
   "execution_count": 11,
   "metadata": {
    "scrolled": true
   },
   "outputs": [
    {
     "name": "stderr",
     "output_type": "stream",
     "text": [
      "/opt/anaconda3/lib/python3.9/site-packages/sklearn/neural_network/_multilayer_perceptron.py:692: ConvergenceWarning: Stochastic Optimizer: Maximum iterations (200) reached and the optimization hasn't converged yet.\n",
      "  warnings.warn(\n",
      "/opt/anaconda3/lib/python3.9/site-packages/sklearn/neural_network/_multilayer_perceptron.py:692: ConvergenceWarning: Stochastic Optimizer: Maximum iterations (200) reached and the optimization hasn't converged yet.\n",
      "  warnings.warn(\n",
      "/opt/anaconda3/lib/python3.9/site-packages/sklearn/neural_network/_multilayer_perceptron.py:692: ConvergenceWarning: Stochastic Optimizer: Maximum iterations (200) reached and the optimization hasn't converged yet.\n",
      "  warnings.warn(\n",
      "/opt/anaconda3/lib/python3.9/site-packages/sklearn/neural_network/_multilayer_perceptron.py:692: ConvergenceWarning: Stochastic Optimizer: Maximum iterations (200) reached and the optimization hasn't converged yet.\n",
      "  warnings.warn(\n",
      "/opt/anaconda3/lib/python3.9/site-packages/sklearn/neural_network/_multilayer_perceptron.py:692: ConvergenceWarning: Stochastic Optimizer: Maximum iterations (200) reached and the optimization hasn't converged yet.\n",
      "  warnings.warn(\n",
      "/opt/anaconda3/lib/python3.9/site-packages/sklearn/neural_network/_multilayer_perceptron.py:692: ConvergenceWarning: Stochastic Optimizer: Maximum iterations (200) reached and the optimization hasn't converged yet.\n",
      "  warnings.warn(\n",
      "/opt/anaconda3/lib/python3.9/site-packages/sklearn/neural_network/_multilayer_perceptron.py:692: ConvergenceWarning: Stochastic Optimizer: Maximum iterations (200) reached and the optimization hasn't converged yet.\n",
      "  warnings.warn(\n",
      "/opt/anaconda3/lib/python3.9/site-packages/sklearn/neural_network/_multilayer_perceptron.py:692: ConvergenceWarning: Stochastic Optimizer: Maximum iterations (200) reached and the optimization hasn't converged yet.\n",
      "  warnings.warn(\n",
      "/opt/anaconda3/lib/python3.9/site-packages/sklearn/neural_network/_multilayer_perceptron.py:692: ConvergenceWarning: Stochastic Optimizer: Maximum iterations (200) reached and the optimization hasn't converged yet.\n",
      "  warnings.warn(\n",
      "/opt/anaconda3/lib/python3.9/site-packages/sklearn/neural_network/_multilayer_perceptron.py:692: ConvergenceWarning: Stochastic Optimizer: Maximum iterations (200) reached and the optimization hasn't converged yet.\n",
      "  warnings.warn(\n",
      "/opt/anaconda3/lib/python3.9/site-packages/sklearn/neural_network/_multilayer_perceptron.py:692: ConvergenceWarning: Stochastic Optimizer: Maximum iterations (300) reached and the optimization hasn't converged yet.\n",
      "  warnings.warn(\n",
      "/opt/anaconda3/lib/python3.9/site-packages/sklearn/neural_network/_multilayer_perceptron.py:692: ConvergenceWarning: Stochastic Optimizer: Maximum iterations (300) reached and the optimization hasn't converged yet.\n",
      "  warnings.warn(\n",
      "/opt/anaconda3/lib/python3.9/site-packages/sklearn/neural_network/_multilayer_perceptron.py:692: ConvergenceWarning: Stochastic Optimizer: Maximum iterations (300) reached and the optimization hasn't converged yet.\n",
      "  warnings.warn(\n",
      "/opt/anaconda3/lib/python3.9/site-packages/sklearn/neural_network/_multilayer_perceptron.py:692: ConvergenceWarning: Stochastic Optimizer: Maximum iterations (300) reached and the optimization hasn't converged yet.\n",
      "  warnings.warn(\n",
      "/opt/anaconda3/lib/python3.9/site-packages/sklearn/neural_network/_multilayer_perceptron.py:692: ConvergenceWarning: Stochastic Optimizer: Maximum iterations (300) reached and the optimization hasn't converged yet.\n",
      "  warnings.warn(\n",
      "/opt/anaconda3/lib/python3.9/site-packages/sklearn/neural_network/_multilayer_perceptron.py:692: ConvergenceWarning: Stochastic Optimizer: Maximum iterations (300) reached and the optimization hasn't converged yet.\n",
      "  warnings.warn(\n",
      "/opt/anaconda3/lib/python3.9/site-packages/sklearn/neural_network/_multilayer_perceptron.py:692: ConvergenceWarning: Stochastic Optimizer: Maximum iterations (300) reached and the optimization hasn't converged yet.\n",
      "  warnings.warn(\n",
      "/opt/anaconda3/lib/python3.9/site-packages/sklearn/neural_network/_multilayer_perceptron.py:692: ConvergenceWarning: Stochastic Optimizer: Maximum iterations (300) reached and the optimization hasn't converged yet.\n",
      "  warnings.warn(\n",
      "/opt/anaconda3/lib/python3.9/site-packages/sklearn/neural_network/_multilayer_perceptron.py:692: ConvergenceWarning: Stochastic Optimizer: Maximum iterations (300) reached and the optimization hasn't converged yet.\n",
      "  warnings.warn(\n",
      "/opt/anaconda3/lib/python3.9/site-packages/sklearn/neural_network/_multilayer_perceptron.py:692: ConvergenceWarning: Stochastic Optimizer: Maximum iterations (300) reached and the optimization hasn't converged yet.\n",
      "  warnings.warn(\n",
      "/opt/anaconda3/lib/python3.9/site-packages/sklearn/neural_network/_multilayer_perceptron.py:692: ConvergenceWarning: Stochastic Optimizer: Maximum iterations (400) reached and the optimization hasn't converged yet.\n",
      "  warnings.warn(\n",
      "/opt/anaconda3/lib/python3.9/site-packages/sklearn/neural_network/_multilayer_perceptron.py:692: ConvergenceWarning: Stochastic Optimizer: Maximum iterations (500) reached and the optimization hasn't converged yet.\n",
      "  warnings.warn(\n",
      "/opt/anaconda3/lib/python3.9/site-packages/sklearn/neural_network/_multilayer_perceptron.py:692: ConvergenceWarning: Stochastic Optimizer: Maximum iterations (500) reached and the optimization hasn't converged yet.\n",
      "  warnings.warn(\n",
      "/opt/anaconda3/lib/python3.9/site-packages/sklearn/neural_network/_multilayer_perceptron.py:692: ConvergenceWarning: Stochastic Optimizer: Maximum iterations (500) reached and the optimization hasn't converged yet.\n",
      "  warnings.warn(\n",
      "/opt/anaconda3/lib/python3.9/site-packages/sklearn/neural_network/_multilayer_perceptron.py:692: ConvergenceWarning: Stochastic Optimizer: Maximum iterations (200) reached and the optimization hasn't converged yet.\n",
      "  warnings.warn(\n",
      "/opt/anaconda3/lib/python3.9/site-packages/sklearn/neural_network/_multilayer_perceptron.py:692: ConvergenceWarning: Stochastic Optimizer: Maximum iterations (200) reached and the optimization hasn't converged yet.\n",
      "  warnings.warn(\n",
      "/opt/anaconda3/lib/python3.9/site-packages/sklearn/neural_network/_multilayer_perceptron.py:692: ConvergenceWarning: Stochastic Optimizer: Maximum iterations (200) reached and the optimization hasn't converged yet.\n",
      "  warnings.warn(\n",
      "/opt/anaconda3/lib/python3.9/site-packages/sklearn/neural_network/_multilayer_perceptron.py:692: ConvergenceWarning: Stochastic Optimizer: Maximum iterations (200) reached and the optimization hasn't converged yet.\n",
      "  warnings.warn(\n",
      "/opt/anaconda3/lib/python3.9/site-packages/sklearn/neural_network/_multilayer_perceptron.py:692: ConvergenceWarning: Stochastic Optimizer: Maximum iterations (200) reached and the optimization hasn't converged yet.\n",
      "  warnings.warn(\n",
      "/opt/anaconda3/lib/python3.9/site-packages/sklearn/neural_network/_multilayer_perceptron.py:692: ConvergenceWarning: Stochastic Optimizer: Maximum iterations (200) reached and the optimization hasn't converged yet.\n",
      "  warnings.warn(\n",
      "/opt/anaconda3/lib/python3.9/site-packages/sklearn/neural_network/_multilayer_perceptron.py:692: ConvergenceWarning: Stochastic Optimizer: Maximum iterations (200) reached and the optimization hasn't converged yet.\n",
      "  warnings.warn(\n",
      "/opt/anaconda3/lib/python3.9/site-packages/sklearn/neural_network/_multilayer_perceptron.py:692: ConvergenceWarning: Stochastic Optimizer: Maximum iterations (200) reached and the optimization hasn't converged yet.\n",
      "  warnings.warn(\n",
      "/opt/anaconda3/lib/python3.9/site-packages/sklearn/neural_network/_multilayer_perceptron.py:692: ConvergenceWarning: Stochastic Optimizer: Maximum iterations (200) reached and the optimization hasn't converged yet.\n",
      "  warnings.warn(\n",
      "/opt/anaconda3/lib/python3.9/site-packages/sklearn/neural_network/_multilayer_perceptron.py:692: ConvergenceWarning: Stochastic Optimizer: Maximum iterations (200) reached and the optimization hasn't converged yet.\n",
      "  warnings.warn(\n",
      "/opt/anaconda3/lib/python3.9/site-packages/sklearn/neural_network/_multilayer_perceptron.py:692: ConvergenceWarning: Stochastic Optimizer: Maximum iterations (300) reached and the optimization hasn't converged yet.\n",
      "  warnings.warn(\n",
      "/opt/anaconda3/lib/python3.9/site-packages/sklearn/neural_network/_multilayer_perceptron.py:692: ConvergenceWarning: Stochastic Optimizer: Maximum iterations (300) reached and the optimization hasn't converged yet.\n",
      "  warnings.warn(\n"
     ]
    },
    {
     "name": "stderr",
     "output_type": "stream",
     "text": [
      "/opt/anaconda3/lib/python3.9/site-packages/sklearn/neural_network/_multilayer_perceptron.py:692: ConvergenceWarning: Stochastic Optimizer: Maximum iterations (300) reached and the optimization hasn't converged yet.\n",
      "  warnings.warn(\n",
      "/opt/anaconda3/lib/python3.9/site-packages/sklearn/neural_network/_multilayer_perceptron.py:692: ConvergenceWarning: Stochastic Optimizer: Maximum iterations (300) reached and the optimization hasn't converged yet.\n",
      "  warnings.warn(\n",
      "/opt/anaconda3/lib/python3.9/site-packages/sklearn/neural_network/_multilayer_perceptron.py:692: ConvergenceWarning: Stochastic Optimizer: Maximum iterations (300) reached and the optimization hasn't converged yet.\n",
      "  warnings.warn(\n",
      "/opt/anaconda3/lib/python3.9/site-packages/sklearn/neural_network/_multilayer_perceptron.py:692: ConvergenceWarning: Stochastic Optimizer: Maximum iterations (300) reached and the optimization hasn't converged yet.\n",
      "  warnings.warn(\n",
      "/opt/anaconda3/lib/python3.9/site-packages/sklearn/neural_network/_multilayer_perceptron.py:692: ConvergenceWarning: Stochastic Optimizer: Maximum iterations (300) reached and the optimization hasn't converged yet.\n",
      "  warnings.warn(\n",
      "/opt/anaconda3/lib/python3.9/site-packages/sklearn/neural_network/_multilayer_perceptron.py:692: ConvergenceWarning: Stochastic Optimizer: Maximum iterations (300) reached and the optimization hasn't converged yet.\n",
      "  warnings.warn(\n",
      "/opt/anaconda3/lib/python3.9/site-packages/sklearn/neural_network/_multilayer_perceptron.py:692: ConvergenceWarning: Stochastic Optimizer: Maximum iterations (300) reached and the optimization hasn't converged yet.\n",
      "  warnings.warn(\n",
      "/opt/anaconda3/lib/python3.9/site-packages/sklearn/neural_network/_multilayer_perceptron.py:692: ConvergenceWarning: Stochastic Optimizer: Maximum iterations (300) reached and the optimization hasn't converged yet.\n",
      "  warnings.warn(\n",
      "/opt/anaconda3/lib/python3.9/site-packages/sklearn/neural_network/_multilayer_perceptron.py:692: ConvergenceWarning: Stochastic Optimizer: Maximum iterations (400) reached and the optimization hasn't converged yet.\n",
      "  warnings.warn(\n",
      "/opt/anaconda3/lib/python3.9/site-packages/sklearn/neural_network/_multilayer_perceptron.py:692: ConvergenceWarning: Stochastic Optimizer: Maximum iterations (400) reached and the optimization hasn't converged yet.\n",
      "  warnings.warn(\n",
      "/opt/anaconda3/lib/python3.9/site-packages/sklearn/neural_network/_multilayer_perceptron.py:692: ConvergenceWarning: Stochastic Optimizer: Maximum iterations (400) reached and the optimization hasn't converged yet.\n",
      "  warnings.warn(\n",
      "/opt/anaconda3/lib/python3.9/site-packages/sklearn/neural_network/_multilayer_perceptron.py:692: ConvergenceWarning: Stochastic Optimizer: Maximum iterations (400) reached and the optimization hasn't converged yet.\n",
      "  warnings.warn(\n",
      "/opt/anaconda3/lib/python3.9/site-packages/sklearn/neural_network/_multilayer_perceptron.py:692: ConvergenceWarning: Stochastic Optimizer: Maximum iterations (400) reached and the optimization hasn't converged yet.\n",
      "  warnings.warn(\n",
      "/opt/anaconda3/lib/python3.9/site-packages/sklearn/neural_network/_multilayer_perceptron.py:692: ConvergenceWarning: Stochastic Optimizer: Maximum iterations (400) reached and the optimization hasn't converged yet.\n",
      "  warnings.warn(\n",
      "/opt/anaconda3/lib/python3.9/site-packages/sklearn/neural_network/_multilayer_perceptron.py:692: ConvergenceWarning: Stochastic Optimizer: Maximum iterations (400) reached and the optimization hasn't converged yet.\n",
      "  warnings.warn(\n",
      "/opt/anaconda3/lib/python3.9/site-packages/sklearn/neural_network/_multilayer_perceptron.py:692: ConvergenceWarning: Stochastic Optimizer: Maximum iterations (400) reached and the optimization hasn't converged yet.\n",
      "  warnings.warn(\n",
      "/opt/anaconda3/lib/python3.9/site-packages/sklearn/neural_network/_multilayer_perceptron.py:692: ConvergenceWarning: Stochastic Optimizer: Maximum iterations (400) reached and the optimization hasn't converged yet.\n",
      "  warnings.warn(\n",
      "/opt/anaconda3/lib/python3.9/site-packages/sklearn/neural_network/_multilayer_perceptron.py:692: ConvergenceWarning: Stochastic Optimizer: Maximum iterations (400) reached and the optimization hasn't converged yet.\n",
      "  warnings.warn(\n",
      "/opt/anaconda3/lib/python3.9/site-packages/sklearn/neural_network/_multilayer_perceptron.py:692: ConvergenceWarning: Stochastic Optimizer: Maximum iterations (500) reached and the optimization hasn't converged yet.\n",
      "  warnings.warn(\n",
      "/opt/anaconda3/lib/python3.9/site-packages/sklearn/neural_network/_multilayer_perceptron.py:692: ConvergenceWarning: Stochastic Optimizer: Maximum iterations (500) reached and the optimization hasn't converged yet.\n",
      "  warnings.warn(\n",
      "/opt/anaconda3/lib/python3.9/site-packages/sklearn/neural_network/_multilayer_perceptron.py:692: ConvergenceWarning: Stochastic Optimizer: Maximum iterations (500) reached and the optimization hasn't converged yet.\n",
      "  warnings.warn(\n",
      "/opt/anaconda3/lib/python3.9/site-packages/sklearn/neural_network/_multilayer_perceptron.py:692: ConvergenceWarning: Stochastic Optimizer: Maximum iterations (500) reached and the optimization hasn't converged yet.\n",
      "  warnings.warn(\n",
      "/opt/anaconda3/lib/python3.9/site-packages/sklearn/neural_network/_multilayer_perceptron.py:692: ConvergenceWarning: Stochastic Optimizer: Maximum iterations (500) reached and the optimization hasn't converged yet.\n",
      "  warnings.warn(\n",
      "/opt/anaconda3/lib/python3.9/site-packages/sklearn/neural_network/_multilayer_perceptron.py:692: ConvergenceWarning: Stochastic Optimizer: Maximum iterations (500) reached and the optimization hasn't converged yet.\n",
      "  warnings.warn(\n",
      "/opt/anaconda3/lib/python3.9/site-packages/sklearn/neural_network/_multilayer_perceptron.py:692: ConvergenceWarning: Stochastic Optimizer: Maximum iterations (500) reached and the optimization hasn't converged yet.\n",
      "  warnings.warn(\n",
      "/opt/anaconda3/lib/python3.9/site-packages/sklearn/neural_network/_multilayer_perceptron.py:692: ConvergenceWarning: Stochastic Optimizer: Maximum iterations (500) reached and the optimization hasn't converged yet.\n",
      "  warnings.warn(\n",
      "/opt/anaconda3/lib/python3.9/site-packages/sklearn/neural_network/_multilayer_perceptron.py:692: ConvergenceWarning: Stochastic Optimizer: Maximum iterations (500) reached and the optimization hasn't converged yet.\n",
      "  warnings.warn(\n",
      "/opt/anaconda3/lib/python3.9/site-packages/sklearn/neural_network/_multilayer_perceptron.py:692: ConvergenceWarning: Stochastic Optimizer: Maximum iterations (200) reached and the optimization hasn't converged yet.\n",
      "  warnings.warn(\n",
      "/opt/anaconda3/lib/python3.9/site-packages/sklearn/neural_network/_multilayer_perceptron.py:692: ConvergenceWarning: Stochastic Optimizer: Maximum iterations (200) reached and the optimization hasn't converged yet.\n",
      "  warnings.warn(\n",
      "/opt/anaconda3/lib/python3.9/site-packages/sklearn/neural_network/_multilayer_perceptron.py:692: ConvergenceWarning: Stochastic Optimizer: Maximum iterations (200) reached and the optimization hasn't converged yet.\n",
      "  warnings.warn(\n",
      "/opt/anaconda3/lib/python3.9/site-packages/sklearn/neural_network/_multilayer_perceptron.py:692: ConvergenceWarning: Stochastic Optimizer: Maximum iterations (200) reached and the optimization hasn't converged yet.\n",
      "  warnings.warn(\n",
      "/opt/anaconda3/lib/python3.9/site-packages/sklearn/neural_network/_multilayer_perceptron.py:692: ConvergenceWarning: Stochastic Optimizer: Maximum iterations (200) reached and the optimization hasn't converged yet.\n",
      "  warnings.warn(\n",
      "/opt/anaconda3/lib/python3.9/site-packages/sklearn/neural_network/_multilayer_perceptron.py:692: ConvergenceWarning: Stochastic Optimizer: Maximum iterations (200) reached and the optimization hasn't converged yet.\n",
      "  warnings.warn(\n",
      "/opt/anaconda3/lib/python3.9/site-packages/sklearn/neural_network/_multilayer_perceptron.py:692: ConvergenceWarning: Stochastic Optimizer: Maximum iterations (200) reached and the optimization hasn't converged yet.\n",
      "  warnings.warn(\n",
      "/opt/anaconda3/lib/python3.9/site-packages/sklearn/neural_network/_multilayer_perceptron.py:692: ConvergenceWarning: Stochastic Optimizer: Maximum iterations (200) reached and the optimization hasn't converged yet.\n",
      "  warnings.warn(\n",
      "/opt/anaconda3/lib/python3.9/site-packages/sklearn/neural_network/_multilayer_perceptron.py:692: ConvergenceWarning: Stochastic Optimizer: Maximum iterations (200) reached and the optimization hasn't converged yet.\n",
      "  warnings.warn(\n"
     ]
    },
    {
     "name": "stderr",
     "output_type": "stream",
     "text": [
      "/opt/anaconda3/lib/python3.9/site-packages/sklearn/neural_network/_multilayer_perceptron.py:692: ConvergenceWarning: Stochastic Optimizer: Maximum iterations (200) reached and the optimization hasn't converged yet.\n",
      "  warnings.warn(\n",
      "/opt/anaconda3/lib/python3.9/site-packages/sklearn/neural_network/_multilayer_perceptron.py:692: ConvergenceWarning: Stochastic Optimizer: Maximum iterations (300) reached and the optimization hasn't converged yet.\n",
      "  warnings.warn(\n",
      "/opt/anaconda3/lib/python3.9/site-packages/sklearn/neural_network/_multilayer_perceptron.py:692: ConvergenceWarning: Stochastic Optimizer: Maximum iterations (300) reached and the optimization hasn't converged yet.\n",
      "  warnings.warn(\n",
      "/opt/anaconda3/lib/python3.9/site-packages/sklearn/neural_network/_multilayer_perceptron.py:692: ConvergenceWarning: Stochastic Optimizer: Maximum iterations (300) reached and the optimization hasn't converged yet.\n",
      "  warnings.warn(\n",
      "/opt/anaconda3/lib/python3.9/site-packages/sklearn/neural_network/_multilayer_perceptron.py:692: ConvergenceWarning: Stochastic Optimizer: Maximum iterations (300) reached and the optimization hasn't converged yet.\n",
      "  warnings.warn(\n",
      "/opt/anaconda3/lib/python3.9/site-packages/sklearn/neural_network/_multilayer_perceptron.py:692: ConvergenceWarning: Stochastic Optimizer: Maximum iterations (300) reached and the optimization hasn't converged yet.\n",
      "  warnings.warn(\n",
      "/opt/anaconda3/lib/python3.9/site-packages/sklearn/neural_network/_multilayer_perceptron.py:692: ConvergenceWarning: Stochastic Optimizer: Maximum iterations (300) reached and the optimization hasn't converged yet.\n",
      "  warnings.warn(\n",
      "/opt/anaconda3/lib/python3.9/site-packages/sklearn/neural_network/_multilayer_perceptron.py:692: ConvergenceWarning: Stochastic Optimizer: Maximum iterations (300) reached and the optimization hasn't converged yet.\n",
      "  warnings.warn(\n",
      "/opt/anaconda3/lib/python3.9/site-packages/sklearn/neural_network/_multilayer_perceptron.py:692: ConvergenceWarning: Stochastic Optimizer: Maximum iterations (300) reached and the optimization hasn't converged yet.\n",
      "  warnings.warn(\n",
      "/opt/anaconda3/lib/python3.9/site-packages/sklearn/neural_network/_multilayer_perceptron.py:692: ConvergenceWarning: Stochastic Optimizer: Maximum iterations (300) reached and the optimization hasn't converged yet.\n",
      "  warnings.warn(\n",
      "/opt/anaconda3/lib/python3.9/site-packages/sklearn/neural_network/_multilayer_perceptron.py:692: ConvergenceWarning: Stochastic Optimizer: Maximum iterations (400) reached and the optimization hasn't converged yet.\n",
      "  warnings.warn(\n",
      "/opt/anaconda3/lib/python3.9/site-packages/sklearn/neural_network/_multilayer_perceptron.py:692: ConvergenceWarning: Stochastic Optimizer: Maximum iterations (400) reached and the optimization hasn't converged yet.\n",
      "  warnings.warn(\n",
      "/opt/anaconda3/lib/python3.9/site-packages/sklearn/neural_network/_multilayer_perceptron.py:692: ConvergenceWarning: Stochastic Optimizer: Maximum iterations (400) reached and the optimization hasn't converged yet.\n",
      "  warnings.warn(\n",
      "/opt/anaconda3/lib/python3.9/site-packages/sklearn/neural_network/_multilayer_perceptron.py:692: ConvergenceWarning: Stochastic Optimizer: Maximum iterations (400) reached and the optimization hasn't converged yet.\n",
      "  warnings.warn(\n",
      "/opt/anaconda3/lib/python3.9/site-packages/sklearn/neural_network/_multilayer_perceptron.py:692: ConvergenceWarning: Stochastic Optimizer: Maximum iterations (400) reached and the optimization hasn't converged yet.\n",
      "  warnings.warn(\n",
      "/opt/anaconda3/lib/python3.9/site-packages/sklearn/neural_network/_multilayer_perceptron.py:692: ConvergenceWarning: Stochastic Optimizer: Maximum iterations (400) reached and the optimization hasn't converged yet.\n",
      "  warnings.warn(\n",
      "/opt/anaconda3/lib/python3.9/site-packages/sklearn/neural_network/_multilayer_perceptron.py:692: ConvergenceWarning: Stochastic Optimizer: Maximum iterations (500) reached and the optimization hasn't converged yet.\n",
      "  warnings.warn(\n",
      "/opt/anaconda3/lib/python3.9/site-packages/sklearn/neural_network/_multilayer_perceptron.py:692: ConvergenceWarning: Stochastic Optimizer: Maximum iterations (500) reached and the optimization hasn't converged yet.\n",
      "  warnings.warn(\n",
      "/opt/anaconda3/lib/python3.9/site-packages/sklearn/neural_network/_multilayer_perceptron.py:692: ConvergenceWarning: Stochastic Optimizer: Maximum iterations (500) reached and the optimization hasn't converged yet.\n",
      "  warnings.warn(\n",
      "/opt/anaconda3/lib/python3.9/site-packages/sklearn/neural_network/_multilayer_perceptron.py:692: ConvergenceWarning: Stochastic Optimizer: Maximum iterations (200) reached and the optimization hasn't converged yet.\n",
      "  warnings.warn(\n",
      "/opt/anaconda3/lib/python3.9/site-packages/sklearn/neural_network/_multilayer_perceptron.py:692: ConvergenceWarning: Stochastic Optimizer: Maximum iterations (200) reached and the optimization hasn't converged yet.\n",
      "  warnings.warn(\n",
      "/opt/anaconda3/lib/python3.9/site-packages/sklearn/neural_network/_multilayer_perceptron.py:692: ConvergenceWarning: Stochastic Optimizer: Maximum iterations (200) reached and the optimization hasn't converged yet.\n",
      "  warnings.warn(\n",
      "/opt/anaconda3/lib/python3.9/site-packages/sklearn/neural_network/_multilayer_perceptron.py:692: ConvergenceWarning: Stochastic Optimizer: Maximum iterations (200) reached and the optimization hasn't converged yet.\n",
      "  warnings.warn(\n",
      "/opt/anaconda3/lib/python3.9/site-packages/sklearn/neural_network/_multilayer_perceptron.py:692: ConvergenceWarning: Stochastic Optimizer: Maximum iterations (200) reached and the optimization hasn't converged yet.\n",
      "  warnings.warn(\n",
      "/opt/anaconda3/lib/python3.9/site-packages/sklearn/neural_network/_multilayer_perceptron.py:692: ConvergenceWarning: Stochastic Optimizer: Maximum iterations (200) reached and the optimization hasn't converged yet.\n",
      "  warnings.warn(\n",
      "/opt/anaconda3/lib/python3.9/site-packages/sklearn/neural_network/_multilayer_perceptron.py:692: ConvergenceWarning: Stochastic Optimizer: Maximum iterations (200) reached and the optimization hasn't converged yet.\n",
      "  warnings.warn(\n",
      "/opt/anaconda3/lib/python3.9/site-packages/sklearn/neural_network/_multilayer_perceptron.py:692: ConvergenceWarning: Stochastic Optimizer: Maximum iterations (200) reached and the optimization hasn't converged yet.\n",
      "  warnings.warn(\n",
      "/opt/anaconda3/lib/python3.9/site-packages/sklearn/neural_network/_multilayer_perceptron.py:692: ConvergenceWarning: Stochastic Optimizer: Maximum iterations (200) reached and the optimization hasn't converged yet.\n",
      "  warnings.warn(\n",
      "/opt/anaconda3/lib/python3.9/site-packages/sklearn/neural_network/_multilayer_perceptron.py:692: ConvergenceWarning: Stochastic Optimizer: Maximum iterations (200) reached and the optimization hasn't converged yet.\n",
      "  warnings.warn(\n",
      "/opt/anaconda3/lib/python3.9/site-packages/sklearn/neural_network/_multilayer_perceptron.py:692: ConvergenceWarning: Stochastic Optimizer: Maximum iterations (200) reached and the optimization hasn't converged yet.\n",
      "  warnings.warn(\n",
      "/opt/anaconda3/lib/python3.9/site-packages/sklearn/neural_network/_multilayer_perceptron.py:692: ConvergenceWarning: Stochastic Optimizer: Maximum iterations (200) reached and the optimization hasn't converged yet.\n",
      "  warnings.warn(\n",
      "/opt/anaconda3/lib/python3.9/site-packages/sklearn/neural_network/_multilayer_perceptron.py:692: ConvergenceWarning: Stochastic Optimizer: Maximum iterations (300) reached and the optimization hasn't converged yet.\n",
      "  warnings.warn(\n",
      "/opt/anaconda3/lib/python3.9/site-packages/sklearn/neural_network/_multilayer_perceptron.py:692: ConvergenceWarning: Stochastic Optimizer: Maximum iterations (300) reached and the optimization hasn't converged yet.\n",
      "  warnings.warn(\n",
      "/opt/anaconda3/lib/python3.9/site-packages/sklearn/neural_network/_multilayer_perceptron.py:692: ConvergenceWarning: Stochastic Optimizer: Maximum iterations (300) reached and the optimization hasn't converged yet.\n",
      "  warnings.warn(\n",
      "/opt/anaconda3/lib/python3.9/site-packages/sklearn/neural_network/_multilayer_perceptron.py:692: ConvergenceWarning: Stochastic Optimizer: Maximum iterations (300) reached and the optimization hasn't converged yet.\n",
      "  warnings.warn(\n",
      "/opt/anaconda3/lib/python3.9/site-packages/sklearn/neural_network/_multilayer_perceptron.py:692: ConvergenceWarning: Stochastic Optimizer: Maximum iterations (300) reached and the optimization hasn't converged yet.\n",
      "  warnings.warn(\n"
     ]
    },
    {
     "name": "stderr",
     "output_type": "stream",
     "text": [
      "/opt/anaconda3/lib/python3.9/site-packages/sklearn/neural_network/_multilayer_perceptron.py:692: ConvergenceWarning: Stochastic Optimizer: Maximum iterations (300) reached and the optimization hasn't converged yet.\n",
      "  warnings.warn(\n",
      "/opt/anaconda3/lib/python3.9/site-packages/sklearn/neural_network/_multilayer_perceptron.py:692: ConvergenceWarning: Stochastic Optimizer: Maximum iterations (300) reached and the optimization hasn't converged yet.\n",
      "  warnings.warn(\n",
      "/opt/anaconda3/lib/python3.9/site-packages/sklearn/neural_network/_multilayer_perceptron.py:692: ConvergenceWarning: Stochastic Optimizer: Maximum iterations (300) reached and the optimization hasn't converged yet.\n",
      "  warnings.warn(\n",
      "/opt/anaconda3/lib/python3.9/site-packages/sklearn/neural_network/_multilayer_perceptron.py:692: ConvergenceWarning: Stochastic Optimizer: Maximum iterations (300) reached and the optimization hasn't converged yet.\n",
      "  warnings.warn(\n",
      "/opt/anaconda3/lib/python3.9/site-packages/sklearn/neural_network/_multilayer_perceptron.py:692: ConvergenceWarning: Stochastic Optimizer: Maximum iterations (300) reached and the optimization hasn't converged yet.\n",
      "  warnings.warn(\n",
      "/opt/anaconda3/lib/python3.9/site-packages/sklearn/neural_network/_multilayer_perceptron.py:692: ConvergenceWarning: Stochastic Optimizer: Maximum iterations (400) reached and the optimization hasn't converged yet.\n",
      "  warnings.warn(\n",
      "/opt/anaconda3/lib/python3.9/site-packages/sklearn/neural_network/_multilayer_perceptron.py:692: ConvergenceWarning: Stochastic Optimizer: Maximum iterations (400) reached and the optimization hasn't converged yet.\n",
      "  warnings.warn(\n",
      "/opt/anaconda3/lib/python3.9/site-packages/sklearn/neural_network/_multilayer_perceptron.py:692: ConvergenceWarning: Stochastic Optimizer: Maximum iterations (400) reached and the optimization hasn't converged yet.\n",
      "  warnings.warn(\n",
      "/opt/anaconda3/lib/python3.9/site-packages/sklearn/neural_network/_multilayer_perceptron.py:692: ConvergenceWarning: Stochastic Optimizer: Maximum iterations (400) reached and the optimization hasn't converged yet.\n",
      "  warnings.warn(\n",
      "/opt/anaconda3/lib/python3.9/site-packages/sklearn/neural_network/_multilayer_perceptron.py:692: ConvergenceWarning: Stochastic Optimizer: Maximum iterations (400) reached and the optimization hasn't converged yet.\n",
      "  warnings.warn(\n",
      "/opt/anaconda3/lib/python3.9/site-packages/sklearn/neural_network/_multilayer_perceptron.py:692: ConvergenceWarning: Stochastic Optimizer: Maximum iterations (400) reached and the optimization hasn't converged yet.\n",
      "  warnings.warn(\n",
      "/opt/anaconda3/lib/python3.9/site-packages/sklearn/neural_network/_multilayer_perceptron.py:692: ConvergenceWarning: Stochastic Optimizer: Maximum iterations (400) reached and the optimization hasn't converged yet.\n",
      "  warnings.warn(\n",
      "/opt/anaconda3/lib/python3.9/site-packages/sklearn/neural_network/_multilayer_perceptron.py:692: ConvergenceWarning: Stochastic Optimizer: Maximum iterations (400) reached and the optimization hasn't converged yet.\n",
      "  warnings.warn(\n",
      "/opt/anaconda3/lib/python3.9/site-packages/sklearn/neural_network/_multilayer_perceptron.py:692: ConvergenceWarning: Stochastic Optimizer: Maximum iterations (400) reached and the optimization hasn't converged yet.\n",
      "  warnings.warn(\n",
      "/opt/anaconda3/lib/python3.9/site-packages/sklearn/neural_network/_multilayer_perceptron.py:692: ConvergenceWarning: Stochastic Optimizer: Maximum iterations (400) reached and the optimization hasn't converged yet.\n",
      "  warnings.warn(\n",
      "/opt/anaconda3/lib/python3.9/site-packages/sklearn/neural_network/_multilayer_perceptron.py:692: ConvergenceWarning: Stochastic Optimizer: Maximum iterations (500) reached and the optimization hasn't converged yet.\n",
      "  warnings.warn(\n",
      "/opt/anaconda3/lib/python3.9/site-packages/sklearn/neural_network/_multilayer_perceptron.py:692: ConvergenceWarning: Stochastic Optimizer: Maximum iterations (500) reached and the optimization hasn't converged yet.\n",
      "  warnings.warn(\n",
      "/opt/anaconda3/lib/python3.9/site-packages/sklearn/neural_network/_multilayer_perceptron.py:692: ConvergenceWarning: Stochastic Optimizer: Maximum iterations (500) reached and the optimization hasn't converged yet.\n",
      "  warnings.warn(\n",
      "/opt/anaconda3/lib/python3.9/site-packages/sklearn/neural_network/_multilayer_perceptron.py:692: ConvergenceWarning: Stochastic Optimizer: Maximum iterations (500) reached and the optimization hasn't converged yet.\n",
      "  warnings.warn(\n",
      "/opt/anaconda3/lib/python3.9/site-packages/sklearn/neural_network/_multilayer_perceptron.py:692: ConvergenceWarning: Stochastic Optimizer: Maximum iterations (500) reached and the optimization hasn't converged yet.\n",
      "  warnings.warn(\n",
      "/opt/anaconda3/lib/python3.9/site-packages/sklearn/neural_network/_multilayer_perceptron.py:692: ConvergenceWarning: Stochastic Optimizer: Maximum iterations (500) reached and the optimization hasn't converged yet.\n",
      "  warnings.warn(\n",
      "/opt/anaconda3/lib/python3.9/site-packages/sklearn/neural_network/_multilayer_perceptron.py:692: ConvergenceWarning: Stochastic Optimizer: Maximum iterations (500) reached and the optimization hasn't converged yet.\n",
      "  warnings.warn(\n",
      "/opt/anaconda3/lib/python3.9/site-packages/sklearn/neural_network/_multilayer_perceptron.py:692: ConvergenceWarning: Stochastic Optimizer: Maximum iterations (500) reached and the optimization hasn't converged yet.\n",
      "  warnings.warn(\n",
      "/opt/anaconda3/lib/python3.9/site-packages/sklearn/neural_network/_multilayer_perceptron.py:692: ConvergenceWarning: Stochastic Optimizer: Maximum iterations (500) reached and the optimization hasn't converged yet.\n",
      "  warnings.warn(\n",
      "/opt/anaconda3/lib/python3.9/site-packages/sklearn/neural_network/_multilayer_perceptron.py:692: ConvergenceWarning: Stochastic Optimizer: Maximum iterations (500) reached and the optimization hasn't converged yet.\n",
      "  warnings.warn(\n",
      "/opt/anaconda3/lib/python3.9/site-packages/sklearn/neural_network/_multilayer_perceptron.py:692: ConvergenceWarning: Stochastic Optimizer: Maximum iterations (300) reached and the optimization hasn't converged yet.\n",
      "  warnings.warn(\n"
     ]
    }
   ],
   "source": [
    "grid_result = searcher.fit(X_train, y_train)"
   ]
  },
  {
   "cell_type": "code",
   "execution_count": 42,
   "metadata": {
    "scrolled": true
   },
   "outputs": [
    {
     "name": "stdout",
     "output_type": "stream",
     "text": [
      "Best model: {'activation': 'relu', 'batch_size': 50, 'learning_rate_init': 0.001, 'max_iter': 300, 'solver': 'adam'} with accuracy of 0.888686\n",
      "MEAN: 0.247171 with: {'activation': 'tanh', 'batch_size': 50, 'learning_rate_init': 0.1, 'max_iter': 200, 'solver': 'sgd'}\n",
      "MEAN: 0.178119 with: {'activation': 'tanh', 'batch_size': 50, 'learning_rate_init': 0.1, 'max_iter': 200, 'solver': 'adam'}\n",
      "MEAN: 0.290222 with: {'activation': 'tanh', 'batch_size': 50, 'learning_rate_init': 0.1, 'max_iter': 300, 'solver': 'sgd'}\n",
      "MEAN: 0.211593 with: {'activation': 'tanh', 'batch_size': 50, 'learning_rate_init': 0.1, 'max_iter': 300, 'solver': 'adam'}\n",
      "MEAN: 0.270739 with: {'activation': 'tanh', 'batch_size': 50, 'learning_rate_init': 0.1, 'max_iter': 400, 'solver': 'sgd'}\n",
      "MEAN: 0.203811 with: {'activation': 'tanh', 'batch_size': 50, 'learning_rate_init': 0.1, 'max_iter': 400, 'solver': 'adam'}\n",
      "MEAN: 0.195490 with: {'activation': 'tanh', 'batch_size': 50, 'learning_rate_init': 0.1, 'max_iter': 500, 'solver': 'sgd'}\n",
      "MEAN: 0.199644 with: {'activation': 'tanh', 'batch_size': 50, 'learning_rate_init': 0.1, 'max_iter': 500, 'solver': 'adam'}\n",
      "MEAN: 0.653441 with: {'activation': 'tanh', 'batch_size': 50, 'learning_rate_init': 0.01, 'max_iter': 200, 'solver': 'sgd'}\n",
      "MEAN: 0.593036 with: {'activation': 'tanh', 'batch_size': 50, 'learning_rate_init': 0.01, 'max_iter': 200, 'solver': 'adam'}\n",
      "MEAN: 0.714034 with: {'activation': 'tanh', 'batch_size': 50, 'learning_rate_init': 0.01, 'max_iter': 300, 'solver': 'sgd'}\n",
      "MEAN: 0.748606 with: {'activation': 'tanh', 'batch_size': 50, 'learning_rate_init': 0.01, 'max_iter': 300, 'solver': 'adam'}\n",
      "MEAN: 0.754317 with: {'activation': 'tanh', 'batch_size': 50, 'learning_rate_init': 0.01, 'max_iter': 400, 'solver': 'sgd'}\n",
      "MEAN: 0.680481 with: {'activation': 'tanh', 'batch_size': 50, 'learning_rate_init': 0.01, 'max_iter': 400, 'solver': 'adam'}\n",
      "MEAN: 0.679910 with: {'activation': 'tanh', 'batch_size': 50, 'learning_rate_init': 0.01, 'max_iter': 500, 'solver': 'sgd'}\n",
      "MEAN: 0.780873 with: {'activation': 'tanh', 'batch_size': 50, 'learning_rate_init': 0.01, 'max_iter': 500, 'solver': 'adam'}\n",
      "MEAN: 0.735487 with: {'activation': 'tanh', 'batch_size': 50, 'learning_rate_init': 0.001, 'max_iter': 200, 'solver': 'sgd'}\n",
      "MEAN: 0.838548 with: {'activation': 'tanh', 'batch_size': 50, 'learning_rate_init': 0.001, 'max_iter': 200, 'solver': 'adam'}\n",
      "MEAN: 0.610934 with: {'activation': 'tanh', 'batch_size': 50, 'learning_rate_init': 0.001, 'max_iter': 300, 'solver': 'sgd'}\n",
      "MEAN: 0.771075 with: {'activation': 'tanh', 'batch_size': 50, 'learning_rate_init': 0.001, 'max_iter': 300, 'solver': 'adam'}\n",
      "MEAN: 0.628288 with: {'activation': 'tanh', 'batch_size': 50, 'learning_rate_init': 0.001, 'max_iter': 400, 'solver': 'sgd'}\n",
      "MEAN: 0.833711 with: {'activation': 'tanh', 'batch_size': 50, 'learning_rate_init': 0.001, 'max_iter': 400, 'solver': 'adam'}\n",
      "MEAN: 0.743869 with: {'activation': 'tanh', 'batch_size': 50, 'learning_rate_init': 0.001, 'max_iter': 500, 'solver': 'sgd'}\n",
      "MEAN: 0.799635 with: {'activation': 'tanh', 'batch_size': 50, 'learning_rate_init': 0.001, 'max_iter': 500, 'solver': 'adam'}\n",
      "MEAN: 0.532201 with: {'activation': 'tanh', 'batch_size': 100, 'learning_rate_init': 0.1, 'max_iter': 200, 'solver': 'sgd'}\n",
      "MEAN: 0.270824 with: {'activation': 'tanh', 'batch_size': 100, 'learning_rate_init': 0.1, 'max_iter': 200, 'solver': 'adam'}\n",
      "MEAN: 0.515655 with: {'activation': 'tanh', 'batch_size': 100, 'learning_rate_init': 0.1, 'max_iter': 300, 'solver': 'sgd'}\n",
      "MEAN: 0.181543 with: {'activation': 'tanh', 'batch_size': 100, 'learning_rate_init': 0.1, 'max_iter': 300, 'solver': 'adam'}\n",
      "MEAN: 0.561394 with: {'activation': 'tanh', 'batch_size': 100, 'learning_rate_init': 0.1, 'max_iter': 400, 'solver': 'sgd'}\n",
      "MEAN: 0.383515 with: {'activation': 'tanh', 'batch_size': 100, 'learning_rate_init': 0.1, 'max_iter': 400, 'solver': 'adam'}\n",
      "MEAN: 0.529501 with: {'activation': 'tanh', 'batch_size': 100, 'learning_rate_init': 0.1, 'max_iter': 500, 'solver': 'sgd'}\n",
      "MEAN: 0.269880 with: {'activation': 'tanh', 'batch_size': 100, 'learning_rate_init': 0.1, 'max_iter': 500, 'solver': 'adam'}\n",
      "MEAN: 0.603593 with: {'activation': 'tanh', 'batch_size': 100, 'learning_rate_init': 0.01, 'max_iter': 200, 'solver': 'sgd'}\n",
      "MEAN: 0.730543 with: {'activation': 'tanh', 'batch_size': 100, 'learning_rate_init': 0.01, 'max_iter': 200, 'solver': 'adam'}\n",
      "MEAN: 0.658297 with: {'activation': 'tanh', 'batch_size': 100, 'learning_rate_init': 0.01, 'max_iter': 300, 'solver': 'sgd'}\n",
      "MEAN: 0.823229 with: {'activation': 'tanh', 'batch_size': 100, 'learning_rate_init': 0.01, 'max_iter': 300, 'solver': 'adam'}\n",
      "MEAN: 0.690273 with: {'activation': 'tanh', 'batch_size': 100, 'learning_rate_init': 0.01, 'max_iter': 400, 'solver': 'sgd'}\n",
      "MEAN: 0.742071 with: {'activation': 'tanh', 'batch_size': 100, 'learning_rate_init': 0.01, 'max_iter': 400, 'solver': 'adam'}\n",
      "MEAN: 0.700719 with: {'activation': 'tanh', 'batch_size': 100, 'learning_rate_init': 0.01, 'max_iter': 500, 'solver': 'sgd'}\n",
      "MEAN: 0.629629 with: {'activation': 'tanh', 'batch_size': 100, 'learning_rate_init': 0.01, 'max_iter': 500, 'solver': 'adam'}\n",
      "MEAN: 0.553859 with: {'activation': 'tanh', 'batch_size': 100, 'learning_rate_init': 0.001, 'max_iter': 200, 'solver': 'sgd'}\n",
      "MEAN: 0.763439 with: {'activation': 'tanh', 'batch_size': 100, 'learning_rate_init': 0.001, 'max_iter': 200, 'solver': 'adam'}\n",
      "MEAN: 0.674906 with: {'activation': 'tanh', 'batch_size': 100, 'learning_rate_init': 0.001, 'max_iter': 300, 'solver': 'sgd'}\n",
      "MEAN: 0.750915 with: {'activation': 'tanh', 'batch_size': 100, 'learning_rate_init': 0.001, 'max_iter': 300, 'solver': 'adam'}\n",
      "MEAN: 0.574831 with: {'activation': 'tanh', 'batch_size': 100, 'learning_rate_init': 0.001, 'max_iter': 400, 'solver': 'sgd'}\n",
      "MEAN: 0.763475 with: {'activation': 'tanh', 'batch_size': 100, 'learning_rate_init': 0.001, 'max_iter': 400, 'solver': 'adam'}\n",
      "MEAN: 0.719425 with: {'activation': 'tanh', 'batch_size': 100, 'learning_rate_init': 0.001, 'max_iter': 500, 'solver': 'sgd'}\n",
      "MEAN: 0.815580 with: {'activation': 'tanh', 'batch_size': 100, 'learning_rate_init': 0.001, 'max_iter': 500, 'solver': 'adam'}\n",
      "MEAN: 0.107167 with: {'activation': 'relu', 'batch_size': 50, 'learning_rate_init': 0.1, 'max_iter': 200, 'solver': 'sgd'}\n",
      "MEAN: 0.102993 with: {'activation': 'relu', 'batch_size': 50, 'learning_rate_init': 0.1, 'max_iter': 200, 'solver': 'adam'}\n",
      "MEAN: 0.107169 with: {'activation': 'relu', 'batch_size': 50, 'learning_rate_init': 0.1, 'max_iter': 300, 'solver': 'sgd'}\n",
      "MEAN: 0.127294 with: {'activation': 'relu', 'batch_size': 50, 'learning_rate_init': 0.1, 'max_iter': 300, 'solver': 'adam'}\n",
      "MEAN: 0.106473 with: {'activation': 'relu', 'batch_size': 50, 'learning_rate_init': 0.1, 'max_iter': 400, 'solver': 'sgd'}\n",
      "MEAN: 0.119662 with: {'activation': 'relu', 'batch_size': 50, 'learning_rate_init': 0.1, 'max_iter': 400, 'solver': 'adam'}\n",
      "MEAN: 0.109262 with: {'activation': 'relu', 'batch_size': 50, 'learning_rate_init': 0.1, 'max_iter': 500, 'solver': 'sgd'}\n",
      "MEAN: 0.104389 with: {'activation': 'relu', 'batch_size': 50, 'learning_rate_init': 0.1, 'max_iter': 500, 'solver': 'adam'}\n",
      "MEAN: 0.523052 with: {'activation': 'relu', 'batch_size': 50, 'learning_rate_init': 0.01, 'max_iter': 200, 'solver': 'sgd'}\n",
      "MEAN: 0.622285 with: {'activation': 'relu', 'batch_size': 50, 'learning_rate_init': 0.01, 'max_iter': 200, 'solver': 'adam'}\n",
      "MEAN: 0.453777 with: {'activation': 'relu', 'batch_size': 50, 'learning_rate_init': 0.01, 'max_iter': 300, 'solver': 'sgd'}\n",
      "MEAN: 0.674356 with: {'activation': 'relu', 'batch_size': 50, 'learning_rate_init': 0.01, 'max_iter': 300, 'solver': 'adam'}\n",
      "MEAN: 0.228259 with: {'activation': 'relu', 'batch_size': 50, 'learning_rate_init': 0.01, 'max_iter': 400, 'solver': 'sgd'}\n",
      "MEAN: 0.757731 with: {'activation': 'relu', 'batch_size': 50, 'learning_rate_init': 0.01, 'max_iter': 400, 'solver': 'adam'}\n",
      "MEAN: 0.537822 with: {'activation': 'relu', 'batch_size': 50, 'learning_rate_init': 0.01, 'max_iter': 500, 'solver': 'sgd'}\n",
      "MEAN: 0.738945 with: {'activation': 'relu', 'batch_size': 50, 'learning_rate_init': 0.01, 'max_iter': 500, 'solver': 'adam'}\n",
      "MEAN: 0.669391 with: {'activation': 'relu', 'batch_size': 50, 'learning_rate_init': 0.001, 'max_iter': 200, 'solver': 'sgd'}\n",
      "MEAN: 0.880314 with: {'activation': 'relu', 'batch_size': 50, 'learning_rate_init': 0.001, 'max_iter': 200, 'solver': 'adam'}\n",
      "MEAN: 0.757728 with: {'activation': 'relu', 'batch_size': 50, 'learning_rate_init': 0.001, 'max_iter': 300, 'solver': 'sgd'}\n",
      "MEAN: 0.888686 with: {'activation': 'relu', 'batch_size': 50, 'learning_rate_init': 0.001, 'max_iter': 300, 'solver': 'adam'}\n",
      "MEAN: 0.764201 with: {'activation': 'relu', 'batch_size': 50, 'learning_rate_init': 0.001, 'max_iter': 400, 'solver': 'sgd'}\n",
      "MEAN: 0.867109 with: {'activation': 'relu', 'batch_size': 50, 'learning_rate_init': 0.001, 'max_iter': 400, 'solver': 'adam'}\n",
      "MEAN: 0.732651 with: {'activation': 'relu', 'batch_size': 50, 'learning_rate_init': 0.001, 'max_iter': 500, 'solver': 'sgd'}\n",
      "MEAN: 0.857344 with: {'activation': 'relu', 'batch_size': 50, 'learning_rate_init': 0.001, 'max_iter': 500, 'solver': 'adam'}\n",
      "MEAN: 0.105776 with: {'activation': 'relu', 'batch_size': 100, 'learning_rate_init': 0.1, 'max_iter': 200, 'solver': 'sgd'}\n",
      "MEAN: 0.121746 with: {'activation': 'relu', 'batch_size': 100, 'learning_rate_init': 0.1, 'max_iter': 200, 'solver': 'adam'}\n",
      "MEAN: 0.105778 with: {'activation': 'relu', 'batch_size': 100, 'learning_rate_init': 0.1, 'max_iter': 300, 'solver': 'sgd'}\n",
      "MEAN: 0.126679 with: {'activation': 'relu', 'batch_size': 100, 'learning_rate_init': 0.1, 'max_iter': 300, 'solver': 'adam'}\n",
      "MEAN: 0.105079 with: {'activation': 'relu', 'batch_size': 100, 'learning_rate_init': 0.1, 'max_iter': 400, 'solver': 'sgd'}\n",
      "MEAN: 0.176716 with: {'activation': 'relu', 'batch_size': 100, 'learning_rate_init': 0.1, 'max_iter': 400, 'solver': 'adam'}\n",
      "MEAN: 0.106473 with: {'activation': 'relu', 'batch_size': 100, 'learning_rate_init': 0.1, 'max_iter': 500, 'solver': 'sgd'}\n",
      "MEAN: 0.140626 with: {'activation': 'relu', 'batch_size': 100, 'learning_rate_init': 0.1, 'max_iter': 500, 'solver': 'adam'}\n",
      "MEAN: 0.676309 with: {'activation': 'relu', 'batch_size': 100, 'learning_rate_init': 0.01, 'max_iter': 200, 'solver': 'sgd'}\n",
      "MEAN: 0.548318 with: {'activation': 'relu', 'batch_size': 100, 'learning_rate_init': 0.01, 'max_iter': 200, 'solver': 'adam'}\n",
      "MEAN: 0.577608 with: {'activation': 'relu', 'batch_size': 100, 'learning_rate_init': 0.01, 'max_iter': 300, 'solver': 'sgd'}\n",
      "MEAN: 0.684171 with: {'activation': 'relu', 'batch_size': 100, 'learning_rate_init': 0.01, 'max_iter': 300, 'solver': 'adam'}\n",
      "MEAN: 0.507784 with: {'activation': 'relu', 'batch_size': 100, 'learning_rate_init': 0.01, 'max_iter': 400, 'solver': 'sgd'}\n",
      "MEAN: 0.716391 with: {'activation': 'relu', 'batch_size': 100, 'learning_rate_init': 0.01, 'max_iter': 400, 'solver': 'adam'}\n",
      "MEAN: 0.525148 with: {'activation': 'relu', 'batch_size': 100, 'learning_rate_init': 0.01, 'max_iter': 500, 'solver': 'sgd'}\n",
      "MEAN: 0.426505 with: {'activation': 'relu', 'batch_size': 100, 'learning_rate_init': 0.01, 'max_iter': 500, 'solver': 'adam'}\n",
      "MEAN: 0.585175 with: {'activation': 'relu', 'batch_size': 100, 'learning_rate_init': 0.001, 'max_iter': 200, 'solver': 'sgd'}\n",
      "MEAN: 0.688986 with: {'activation': 'relu', 'batch_size': 100, 'learning_rate_init': 0.001, 'max_iter': 200, 'solver': 'adam'}\n",
      "MEAN: 0.723638 with: {'activation': 'relu', 'batch_size': 100, 'learning_rate_init': 0.001, 'max_iter': 300, 'solver': 'sgd'}\n",
      "MEAN: 0.814828 with: {'activation': 'relu', 'batch_size': 100, 'learning_rate_init': 0.001, 'max_iter': 300, 'solver': 'adam'}\n",
      "MEAN: 0.749460 with: {'activation': 'relu', 'batch_size': 100, 'learning_rate_init': 0.001, 'max_iter': 400, 'solver': 'sgd'}\n",
      "MEAN: 0.869899 with: {'activation': 'relu', 'batch_size': 100, 'learning_rate_init': 0.001, 'max_iter': 400, 'solver': 'adam'}\n",
      "MEAN: 0.726621 with: {'activation': 'relu', 'batch_size': 100, 'learning_rate_init': 0.001, 'max_iter': 500, 'solver': 'sgd'}\n",
      "MEAN: 0.823851 with: {'activation': 'relu', 'batch_size': 100, 'learning_rate_init': 0.001, 'max_iter': 500, 'solver': 'adam'}\n"
     ]
    }
   ],
   "source": [
    "# print out accuracy results and model setting\n",
    "print(\"Best model: %s with accuracy of %f\" % (grid_result.best_params_, grid_result.best_score_))\n",
    "# for params, mean_score, scores in grid_result.cv_results_:\n",
    "#     print(\"MEAN: %f (STD: %f) with: %r\" % (scores.mean(), scores.std(), params))\n",
    "for score,param in zip(grid_result.cv_results_['mean_test_score'], grid_result.cv_results_['params']):\n",
    "    print(\"MEAN: %f with: %r\" % (score, param))"
   ]
  },
  {
   "cell_type": "code",
   "execution_count": 30,
   "metadata": {},
   "outputs": [
    {
     "data": {
      "text/plain": [
       "dict_keys(['mean_fit_time', 'std_fit_time', 'mean_score_time', 'std_score_time', 'param_activation', 'param_batch_size', 'param_learning_rate_init', 'param_max_iter', 'param_solver', 'params', 'split0_test_score', 'split1_test_score', 'split2_test_score', 'split3_test_score', 'split4_test_score', 'mean_test_score', 'std_test_score', 'rank_test_score'])"
      ]
     },
     "execution_count": 30,
     "metadata": {},
     "output_type": "execute_result"
    }
   ],
   "source": [
    "grid_result.cv_results_.keys()"
   ]
  },
  {
   "cell_type": "code",
   "execution_count": 38,
   "metadata": {},
   "outputs": [
    {
     "data": {
      "text/plain": [
       "96"
      ]
     },
     "execution_count": 38,
     "metadata": {},
     "output_type": "execute_result"
    }
   ],
   "source": [
    "len(grid_result.cv_results_['mean_test_score'])"
   ]
  },
  {
   "cell_type": "markdown",
   "metadata": {},
   "source": [
    "## Random Search"
   ]
  },
  {
   "cell_type": "code",
   "execution_count": 43,
   "metadata": {},
   "outputs": [],
   "source": [
    "# assign parameters for random search\n",
    "activation = ['tanh', 'relu']\n",
    "solver = ['sgd', 'adam']\n",
    "batch_size = randint(50, 100)\n",
    "learning_rate_init = uniform(0.001, 0.1)\n",
    "max_iter = randint(200, 500)\n",
    "\n",
    "# Note the randint from scipy"
   ]
  },
  {
   "cell_type": "code",
   "execution_count": 44,
   "metadata": {},
   "outputs": [],
   "source": [
    "# create a dictionary to carry parameter settings\n",
    "parameters = dict(activation = activation, solver = solver, \n",
    "                  batch_size = batch_size, \n",
    "                  learning_rate_init = learning_rate_init, \n",
    "                  max_iter = max_iter)"
   ]
  },
  {
   "cell_type": "code",
   "execution_count": 45,
   "metadata": {},
   "outputs": [],
   "source": [
    "searcher = RandomizedSearchCV(estimator = clf, param_distributions = parameters, \n",
    "                              cv = 5,\n",
    "                              n_iter = 96, \n",
    "                              scoring = 'accuracy')\n",
    "# Note n_iter = 96. It will do 96 parameter search."
   ]
  },
  {
   "cell_type": "code",
   "execution_count": 46,
   "metadata": {},
   "outputs": [],
   "source": [
    "random_result = searcher.fit(X_train, y_train)"
   ]
  },
  {
   "cell_type": "code",
   "execution_count": 55,
   "metadata": {},
   "outputs": [
    {
     "name": "stdout",
     "output_type": "stream",
     "text": [
      "Best model: {'activation': 'relu', 'batch_size': 90, 'learning_rate_init': 0.004367532000464535, 'max_iter': 354, 'solver': 'adam'} with accuracy of 0.803044\n",
      "MEAN: 0.128697 with: {'activation': 'relu', 'batch_size': 86, 'learning_rate_init': 0.10079093664347084, 'max_iter': 407, 'solver': 'sgd'}\n",
      "MEAN: 0.103688 with: {'activation': 'relu', 'batch_size': 82, 'learning_rate_init': 0.09420728678303941, 'max_iter': 234, 'solver': 'adam'}\n",
      "MEAN: 0.482910 with: {'activation': 'tanh', 'batch_size': 84, 'learning_rate_init': 0.046480291586405244, 'max_iter': 385, 'solver': 'adam'}\n",
      "MEAN: 0.729249 with: {'activation': 'tanh', 'batch_size': 74, 'learning_rate_init': 0.012083563507862105, 'max_iter': 293, 'solver': 'adam'}\n",
      "MEAN: 0.552901 with: {'activation': 'relu', 'batch_size': 93, 'learning_rate_init': 0.006953728391856195, 'max_iter': 208, 'solver': 'sgd'}\n",
      "MEAN: 0.105081 with: {'activation': 'relu', 'batch_size': 67, 'learning_rate_init': 0.0374567978831606, 'max_iter': 481, 'solver': 'sgd'}\n",
      "MEAN: 0.576614 with: {'activation': 'relu', 'batch_size': 96, 'learning_rate_init': 0.009483302109492352, 'max_iter': 428, 'solver': 'adam'}\n",
      "MEAN: 0.279561 with: {'activation': 'relu', 'batch_size': 96, 'learning_rate_init': 0.03679068176465111, 'max_iter': 338, 'solver': 'adam'}\n",
      "MEAN: 0.549889 with: {'activation': 'tanh', 'batch_size': 71, 'learning_rate_init': 0.04226827969402064, 'max_iter': 330, 'solver': 'sgd'}\n",
      "MEAN: 0.235869 with: {'activation': 'tanh', 'batch_size': 73, 'learning_rate_init': 0.09910717700531341, 'max_iter': 372, 'solver': 'adam'}\n",
      "MEAN: 0.160702 with: {'activation': 'tanh', 'batch_size': 50, 'learning_rate_init': 0.08263273485667703, 'max_iter': 345, 'solver': 'adam'}\n",
      "MEAN: 0.135741 with: {'activation': 'relu', 'batch_size': 87, 'learning_rate_init': 0.017979107072206357, 'max_iter': 248, 'solver': 'sgd'}\n",
      "MEAN: 0.680618 with: {'activation': 'tanh', 'batch_size': 84, 'learning_rate_init': 0.06138797109962485, 'max_iter': 369, 'solver': 'sgd'}\n",
      "MEAN: 0.709729 with: {'activation': 'tanh', 'batch_size': 55, 'learning_rate_init': 0.004083374709324615, 'max_iter': 463, 'solver': 'sgd'}\n",
      "MEAN: 0.149528 with: {'activation': 'relu', 'batch_size': 66, 'learning_rate_init': 0.014046594474317088, 'max_iter': 322, 'solver': 'sgd'}\n",
      "MEAN: 0.138531 with: {'activation': 'relu', 'batch_size': 88, 'learning_rate_init': 0.08737472084390432, 'max_iter': 226, 'solver': 'adam'}\n",
      "MEAN: 0.266759 with: {'activation': 'relu', 'batch_size': 81, 'learning_rate_init': 0.058982821714725964, 'max_iter': 305, 'solver': 'adam'}\n",
      "MEAN: 0.105778 with: {'activation': 'relu', 'batch_size': 51, 'learning_rate_init': 0.047735728391831114, 'max_iter': 244, 'solver': 'sgd'}\n",
      "MEAN: 0.155258 with: {'activation': 'relu', 'batch_size': 88, 'learning_rate_init': 0.03320818408901011, 'max_iter': 406, 'solver': 'adam'}\n",
      "MEAN: 0.764070 with: {'activation': 'tanh', 'batch_size': 63, 'learning_rate_init': 0.005247162059434206, 'max_iter': 468, 'solver': 'adam'}\n",
      "MEAN: 0.558099 with: {'activation': 'tanh', 'batch_size': 68, 'learning_rate_init': 0.06566154437835357, 'max_iter': 296, 'solver': 'sgd'}\n",
      "MEAN: 0.637275 with: {'activation': 'relu', 'batch_size': 79, 'learning_rate_init': 0.021234157524134933, 'max_iter': 336, 'solver': 'adam'}\n",
      "MEAN: 0.196191 with: {'activation': 'relu', 'batch_size': 70, 'learning_rate_init': 0.06019639068341538, 'max_iter': 465, 'solver': 'adam'}\n",
      "MEAN: 0.563615 with: {'activation': 'tanh', 'batch_size': 66, 'learning_rate_init': 0.038097720814648905, 'max_iter': 284, 'solver': 'adam'}\n",
      "MEAN: 0.249654 with: {'activation': 'tanh', 'batch_size': 83, 'learning_rate_init': 0.06487597179873143, 'max_iter': 361, 'solver': 'adam'}\n",
      "MEAN: 0.453066 with: {'activation': 'relu', 'batch_size': 82, 'learning_rate_init': 0.012024921716350744, 'max_iter': 272, 'solver': 'adam'}\n",
      "MEAN: 0.143404 with: {'activation': 'relu', 'batch_size': 73, 'learning_rate_init': 0.02887279814766791, 'max_iter': 321, 'solver': 'sgd'}\n",
      "MEAN: 0.298507 with: {'activation': 'tanh', 'batch_size': 80, 'learning_rate_init': 0.07114805217194065, 'max_iter': 309, 'solver': 'adam'}\n",
      "MEAN: 0.684850 with: {'activation': 'tanh', 'batch_size': 71, 'learning_rate_init': 0.016532774604375224, 'max_iter': 470, 'solver': 'adam'}\n",
      "MEAN: 0.106473 with: {'activation': 'relu', 'batch_size': 57, 'learning_rate_init': 0.08866719093433179, 'max_iter': 497, 'solver': 'sgd'}\n",
      "MEAN: 0.372433 with: {'activation': 'tanh', 'batch_size': 77, 'learning_rate_init': 0.09817388339830707, 'max_iter': 248, 'solver': 'sgd'}\n",
      "MEAN: 0.582443 with: {'activation': 'tanh', 'batch_size': 97, 'learning_rate_init': 0.024383377361124225, 'max_iter': 392, 'solver': 'adam'}\n",
      "MEAN: 0.364859 with: {'activation': 'relu', 'batch_size': 75, 'learning_rate_init': 0.015183589716573288, 'max_iter': 369, 'solver': 'sgd'}\n",
      "MEAN: 0.173943 with: {'activation': 'relu', 'batch_size': 50, 'learning_rate_init': 0.03314444808894257, 'max_iter': 400, 'solver': 'sgd'}\n",
      "MEAN: 0.492949 with: {'activation': 'relu', 'batch_size': 62, 'learning_rate_init': 0.016243777956518955, 'max_iter': 308, 'solver': 'adam'}\n",
      "MEAN: 0.430822 with: {'activation': 'tanh', 'batch_size': 58, 'learning_rate_init': 0.09451966549232788, 'max_iter': 398, 'solver': 'sgd'}\n",
      "MEAN: 0.597709 with: {'activation': 'tanh', 'batch_size': 83, 'learning_rate_init': 0.01302530057195389, 'max_iter': 314, 'solver': 'sgd'}\n",
      "MEAN: 0.632605 with: {'activation': 'tanh', 'batch_size': 89, 'learning_rate_init': 0.02419417544050776, 'max_iter': 339, 'solver': 'sgd'}\n",
      "MEAN: 0.269384 with: {'activation': 'tanh', 'batch_size': 84, 'learning_rate_init': 0.05684655380058349, 'max_iter': 287, 'solver': 'adam'}\n",
      "MEAN: 0.103688 with: {'activation': 'relu', 'batch_size': 70, 'learning_rate_init': 0.09318314890666493, 'max_iter': 261, 'solver': 'adam'}\n",
      "MEAN: 0.563567 with: {'activation': 'tanh', 'batch_size': 84, 'learning_rate_init': 0.06847057773937056, 'max_iter': 419, 'solver': 'sgd'}\n",
      "MEAN: 0.471448 with: {'activation': 'relu', 'batch_size': 65, 'learning_rate_init': 0.016384452849469246, 'max_iter': 294, 'solver': 'adam'}\n",
      "MEAN: 0.803044 with: {'activation': 'relu', 'batch_size': 90, 'learning_rate_init': 0.004367532000464535, 'max_iter': 354, 'solver': 'adam'}\n",
      "MEAN: 0.620187 with: {'activation': 'tanh', 'batch_size': 96, 'learning_rate_init': 0.04866397092073426, 'max_iter': 339, 'solver': 'sgd'}\n",
      "MEAN: 0.367286 with: {'activation': 'tanh', 'batch_size': 82, 'learning_rate_init': 0.04824009952961692, 'max_iter': 402, 'solver': 'adam'}\n",
      "MEAN: 0.164320 with: {'activation': 'relu', 'batch_size': 75, 'learning_rate_init': 0.04512683408384756, 'max_iter': 268, 'solver': 'sgd'}\n",
      "MEAN: 0.717443 with: {'activation': 'tanh', 'batch_size': 62, 'learning_rate_init': 0.023968738642413712, 'max_iter': 458, 'solver': 'sgd'}\n",
      "MEAN: 0.131562 with: {'activation': 'relu', 'batch_size': 78, 'learning_rate_init': 0.09026215331437563, 'max_iter': 337, 'solver': 'adam'}\n",
      "MEAN: 0.106473 with: {'activation': 'relu', 'batch_size': 51, 'learning_rate_init': 0.10024216302292728, 'max_iter': 256, 'solver': 'sgd'}\n",
      "MEAN: 0.475295 with: {'activation': 'tanh', 'batch_size': 90, 'learning_rate_init': 0.05759799208342398, 'max_iter': 268, 'solver': 'adam'}\n",
      "MEAN: 0.644931 with: {'activation': 'tanh', 'batch_size': 97, 'learning_rate_init': 0.02604465195208442, 'max_iter': 493, 'solver': 'sgd'}\n",
      "MEAN: 0.390399 with: {'activation': 'relu', 'batch_size': 61, 'learning_rate_init': 0.024886682175175992, 'max_iter': 457, 'solver': 'adam'}\n",
      "MEAN: 0.789937 with: {'activation': 'tanh', 'batch_size': 94, 'learning_rate_init': 0.0038689459912527474, 'max_iter': 363, 'solver': 'adam'}\n",
      "MEAN: 0.244904 with: {'activation': 'tanh', 'batch_size': 53, 'learning_rate_init': 0.0694121898531792, 'max_iter': 263, 'solver': 'adam'}\n",
      "MEAN: 0.370214 with: {'activation': 'tanh', 'batch_size': 78, 'learning_rate_init': 0.04662362198092741, 'max_iter': 450, 'solver': 'adam'}\n",
      "MEAN: 0.414937 with: {'activation': 'tanh', 'batch_size': 71, 'learning_rate_init': 0.029822124141959262, 'max_iter': 255, 'solver': 'sgd'}\n",
      "MEAN: 0.140621 with: {'activation': 'relu', 'batch_size': 90, 'learning_rate_init': 0.08978133712444672, 'max_iter': 259, 'solver': 'adam'}\n",
      "MEAN: 0.248471 with: {'activation': 'tanh', 'batch_size': 77, 'learning_rate_init': 0.059883468845251676, 'max_iter': 312, 'solver': 'adam'}\n",
      "MEAN: 0.434829 with: {'activation': 'tanh', 'batch_size': 65, 'learning_rate_init': 0.05490256231104948, 'max_iter': 306, 'solver': 'sgd'}\n",
      "MEAN: 0.385477 with: {'activation': 'relu', 'batch_size': 65, 'learning_rate_init': 0.01212463339720048, 'max_iter': 312, 'solver': 'sgd'}\n",
      "MEAN: 0.105778 with: {'activation': 'relu', 'batch_size': 80, 'learning_rate_init': 0.06944525303480646, 'max_iter': 376, 'solver': 'sgd'}\n",
      "MEAN: 0.471046 with: {'activation': 'tanh', 'batch_size': 75, 'learning_rate_init': 0.0631602789776963, 'max_iter': 370, 'solver': 'sgd'}\n",
      "MEAN: 0.521862 with: {'activation': 'tanh', 'batch_size': 68, 'learning_rate_init': 0.053812841524110956, 'max_iter': 309, 'solver': 'sgd'}\n",
      "MEAN: 0.114835 with: {'activation': 'relu', 'batch_size': 70, 'learning_rate_init': 0.062047621429898774, 'max_iter': 326, 'solver': 'sgd'}\n",
      "MEAN: 0.258846 with: {'activation': 'tanh', 'batch_size': 94, 'learning_rate_init': 0.0666498642116007, 'max_iter': 388, 'solver': 'adam'}\n",
      "MEAN: 0.769643 with: {'activation': 'tanh', 'batch_size': 92, 'learning_rate_init': 0.0015069558004340501, 'max_iter': 480, 'solver': 'sgd'}\n",
      "MEAN: 0.133549 with: {'activation': 'relu', 'batch_size': 88, 'learning_rate_init': 0.09563037579730493, 'max_iter': 388, 'solver': 'adam'}\n",
      "MEAN: 0.237364 with: {'activation': 'relu', 'batch_size': 83, 'learning_rate_init': 0.03302828025017581, 'max_iter': 299, 'solver': 'adam'}\n",
      "MEAN: 0.152468 with: {'activation': 'relu', 'batch_size': 74, 'learning_rate_init': 0.07224233619372268, 'max_iter': 283, 'solver': 'adam'}\n",
      "MEAN: 0.572982 with: {'activation': 'tanh', 'batch_size': 58, 'learning_rate_init': 0.04943809790315658, 'max_iter': 243, 'solver': 'sgd'}\n",
      "MEAN: 0.649105 with: {'activation': 'tanh', 'batch_size': 85, 'learning_rate_init': 0.057211897151478446, 'max_iter': 211, 'solver': 'sgd'}\n",
      "MEAN: 0.263608 with: {'activation': 'tanh', 'batch_size': 93, 'learning_rate_init': 0.09632779140514632, 'max_iter': 456, 'solver': 'adam'}\n",
      "MEAN: 0.102294 with: {'activation': 'relu', 'batch_size': 54, 'learning_rate_init': 0.10002526417784208, 'max_iter': 456, 'solver': 'adam'}\n",
      "MEAN: 0.214428 with: {'activation': 'tanh', 'batch_size': 88, 'learning_rate_init': 0.07097427006538963, 'max_iter': 330, 'solver': 'adam'}\n",
      "MEAN: 0.442632 with: {'activation': 'tanh', 'batch_size': 97, 'learning_rate_init': 0.09904890452774925, 'max_iter': 257, 'solver': 'sgd'}\n",
      "MEAN: 0.253242 with: {'activation': 'relu', 'batch_size': 90, 'learning_rate_init': 0.02488543024119605, 'max_iter': 365, 'solver': 'sgd'}\n",
      "MEAN: 0.125213 with: {'activation': 'relu', 'batch_size': 85, 'learning_rate_init': 0.0858263675793039, 'max_iter': 489, 'solver': 'sgd'}\n",
      "MEAN: 0.660484 with: {'activation': 'tanh', 'batch_size': 72, 'learning_rate_init': 0.050854691572945455, 'max_iter': 289, 'solver': 'sgd'}\n",
      "MEAN: 0.105778 with: {'activation': 'relu', 'batch_size': 55, 'learning_rate_init': 0.05191779363708339, 'max_iter': 312, 'solver': 'sgd'}\n",
      "MEAN: 0.231032 with: {'activation': 'relu', 'batch_size': 65, 'learning_rate_init': 0.055622674398883735, 'max_iter': 399, 'solver': 'adam'}\n",
      "MEAN: 0.404230 with: {'activation': 'relu', 'batch_size': 67, 'learning_rate_init': 0.0426628705722298, 'max_iter': 324, 'solver': 'adam'}\n",
      "MEAN: 0.442417 with: {'activation': 'tanh', 'batch_size': 87, 'learning_rate_init': 0.07992389844612593, 'max_iter': 227, 'solver': 'sgd'}\n",
      "MEAN: 0.158048 with: {'activation': 'relu', 'batch_size': 57, 'learning_rate_init': 0.09041409498501624, 'max_iter': 496, 'solver': 'adam'}\n",
      "MEAN: 0.357772 with: {'activation': 'tanh', 'batch_size': 85, 'learning_rate_init': 0.09650344572581898, 'max_iter': 264, 'solver': 'sgd'}\n",
      "MEAN: 0.674081 with: {'activation': 'tanh', 'batch_size': 94, 'learning_rate_init': 0.03266641702139798, 'max_iter': 437, 'solver': 'adam'}\n",
      "MEAN: 0.709204 with: {'activation': 'tanh', 'batch_size': 63, 'learning_rate_init': 0.031070077910859542, 'max_iter': 367, 'solver': 'sgd'}\n",
      "MEAN: 0.173202 with: {'activation': 'relu', 'batch_size': 73, 'learning_rate_init': 0.05837425765104712, 'max_iter': 281, 'solver': 'adam'}\n",
      "MEAN: 0.507978 with: {'activation': 'relu', 'batch_size': 53, 'learning_rate_init': 0.01168851071084619, 'max_iter': 237, 'solver': 'sgd'}\n",
      "MEAN: 0.107167 with: {'activation': 'relu', 'batch_size': 91, 'learning_rate_init': 0.06453804001069686, 'max_iter': 461, 'solver': 'sgd'}\n",
      "MEAN: 0.532295 with: {'activation': 'tanh', 'batch_size': 89, 'learning_rate_init': 0.03964495826058165, 'max_iter': 465, 'solver': 'sgd'}\n",
      "MEAN: 0.105781 with: {'activation': 'relu', 'batch_size': 58, 'learning_rate_init': 0.08835971333671863, 'max_iter': 300, 'solver': 'sgd'}\n",
      "MEAN: 0.472188 with: {'activation': 'relu', 'batch_size': 92, 'learning_rate_init': 0.04692446587136659, 'max_iter': 239, 'solver': 'adam'}\n",
      "MEAN: 0.283299 with: {'activation': 'relu', 'batch_size': 77, 'learning_rate_init': 0.08123981221360066, 'max_iter': 300, 'solver': 'adam'}\n",
      "MEAN: 0.160826 with: {'activation': 'relu', 'batch_size': 61, 'learning_rate_init': 0.04052504557050657, 'max_iter': 450, 'solver': 'sgd'}\n",
      "MEAN: 0.104382 with: {'activation': 'relu', 'batch_size': 55, 'learning_rate_init': 0.09729810541197847, 'max_iter': 264, 'solver': 'sgd'}\n",
      "MEAN: 0.471254 with: {'activation': 'tanh', 'batch_size': 78, 'learning_rate_init': 0.0664413692041607, 'max_iter': 274, 'solver': 'sgd'}\n"
     ]
    }
   ],
   "source": [
    "# print out accuracy results and model setting\n",
    "print(\"Best model: %s with accuracy of %f\" % (random_result.best_params_, random_result.best_score_))\n",
    "for score,param in zip(random_result.cv_results_['mean_test_score'], random_result.cv_results_['params']):\n",
    "    print(\"MEAN: %f with: %r\" % (score, param))"
   ]
  },
  {
   "cell_type": "code",
   "execution_count": 54,
   "metadata": {},
   "outputs": [
    {
     "data": {
      "text/plain": [
       "96"
      ]
     },
     "execution_count": 54,
     "metadata": {},
     "output_type": "execute_result"
    }
   ],
   "source": [
    "len(random_result.cv_results_['mean_test_score'])"
   ]
  }
 ],
 "metadata": {
  "kernelspec": {
   "display_name": "Python 3 (ipykernel)",
   "language": "python",
   "name": "python3"
  },
  "language_info": {
   "codemirror_mode": {
    "name": "ipython",
    "version": 3
   },
   "file_extension": ".py",
   "mimetype": "text/x-python",
   "name": "python",
   "nbconvert_exporter": "python",
   "pygments_lexer": "ipython3",
   "version": "3.9.12"
  }
 },
 "nbformat": 4,
 "nbformat_minor": 2
}
